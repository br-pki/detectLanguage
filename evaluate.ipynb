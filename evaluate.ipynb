{
 "cells": [
  {
   "cell_type": "code",
   "execution_count": 190,
   "id": "a50d72a3-6ee6-42e1-8406-7d024e0d0fb0",
   "metadata": {},
   "outputs": [],
   "source": [
    "import pandas as pd\n",
    "\n",
    "import warnings\n",
    "warnings.filterwarnings('ignore')"
   ]
  },
  {
   "cell_type": "markdown",
   "id": "c0724570-12d6-49df-9c07-34d9b8008e74",
   "metadata": {},
   "source": [
    "## Load sample train data set"
   ]
  },
  {
   "cell_type": "code",
   "execution_count": 191,
   "id": "4ce4d764-fd31-4d92-a925-dd1e681eeee5",
   "metadata": {},
   "outputs": [],
   "source": [
    "from create_Tatoeba_train_test import get_language_mappings, get_sentence_word_char_len"
   ]
  },
  {
   "cell_type": "code",
   "execution_count": 192,
   "id": "7d928008-850b-4bbc-862c-77bc59b05279",
   "metadata": {},
   "outputs": [],
   "source": [
    "language_mappings = get_language_mappings(\"language_mappings.csv\")\n",
    "iso_639_2_English = language_mappings[[\"ISO 639-2\", \"English Name\"]].set_index(keys=\"ISO 639-2\")[\"English Name\"].to_dict()\n",
    "# iso_639_2_English"
   ]
  },
  {
   "cell_type": "code",
   "execution_count": 193,
   "id": "fe032851-6103-4379-81d7-b62fa9e1aec9",
   "metadata": {},
   "outputs": [],
   "source": [
    "THIS_FILE = \"Tatoeba_stratify_train_2021-8-4_1049.csv\"\n",
    "sample = pd.read_csv(f\"output/{THIS_FILE}\")\n",
    "sample[\"Language_English_Name\"] = sample[\"Language\"].map(iso_639_2_English)\n",
    "sample[\"Sentence_len\"] = sample.apply(lambda row: get_sentence_word_char_len(row), axis=1)"
   ]
  },
  {
   "cell_type": "code",
   "execution_count": 194,
   "id": "c5c19830-29f8-4ec2-9731-f2e945c64a39",
   "metadata": {},
   "outputs": [],
   "source": [
    "bin_labels = [\"1\",\"2\",\"3\",\"4\",\"5\",\"6\",\"7\",\"8\",\"9\",\"10\",\"11 to 16\", \"17 to 27\", \"28 to 48\", \"49 to 99\"]\n",
    "\n",
    "sample[\"Sentence_len_bin\"] = pd.cut(\n",
    "    x=sample[\"Sentence_len\"],\n",
    "    bins=[0,1,2,3,4,5,6,7,8,9,10,16,27,48,99],\n",
    "    labels=bin_labels\n",
    ")\n",
    "# sample.sample(10)"
   ]
  },
  {
   "cell_type": "code",
   "execution_count": 195,
   "id": "9cdc763f-a29e-4541-9d86-c02bfcbfc10f",
   "metadata": {},
   "outputs": [
    {
     "data": {
      "text/plain": [
       "Language\n",
       "cmn    4317\n",
       "dan    4317\n",
       "deu    4317\n",
       "eng    4317\n",
       "fra    4317\n",
       "ita    4317\n",
       "jpn    4316\n",
       "kor    4316\n",
       "nld    4317\n",
       "nob    4316\n",
       "por    4317\n",
       "spa    4317\n",
       "Name: Sentence, dtype: int64"
      ]
     },
     "execution_count": 195,
     "metadata": {},
     "output_type": "execute_result"
    }
   ],
   "source": [
    "sample.groupby([\"Language\"]).count()[\"Sentence\"]"
   ]
  },
  {
   "cell_type": "markdown",
   "id": "41e738cc-8006-41eb-8b96-d1bdae6ff56f",
   "metadata": {},
   "source": [
    "> There are 12 languages in the sample & ~4,317 sentences per language for a total of 51,801 sentences."
   ]
  },
  {
   "cell_type": "code",
   "execution_count": 196,
   "id": "811ce511-105b-4871-9252-446ebeb7b076",
   "metadata": {},
   "outputs": [
    {
     "data": {
      "text/plain": [
       "Sentence_len_bin\n",
       "1              58\n",
       "2             570\n",
       "3            1236\n",
       "4            2161\n",
       "5            3130\n",
       "6            3851\n",
       "7            4804\n",
       "8            5798\n",
       "9            6486\n",
       "10           5847\n",
       "11 to 16    13303\n",
       "17 to 27     3749\n",
       "28 to 48      645\n",
       "49 to 99      163\n",
       "Name: Sentence, dtype: int64"
      ]
     },
     "execution_count": 196,
     "metadata": {},
     "output_type": "execute_result"
    }
   ],
   "source": [
    "sample.groupby([\"Sentence_len_bin\"]).count()[\"Sentence\"]"
   ]
  },
  {
   "cell_type": "markdown",
   "id": "8dd76176-3555-4a55-8ddf-0d72b2d1136c",
   "metadata": {},
   "source": [
    "> Due to how we performed the stratified sampling each language has the same number of sentences per sentence length bin. For instance, each language should have 58 sentences of one word/character."
   ]
  },
  {
   "cell_type": "markdown",
   "id": "b4bcc949-1ae2-4093-82a9-72e58f854297",
   "metadata": {},
   "source": [
    "# langid"
   ]
  },
  {
   "cell_type": "markdown",
   "id": "c043a4f0-c452-4655-bfe4-0edd91846423",
   "metadata": {},
   "source": [
    "#### Setup for langid"
   ]
  },
  {
   "cell_type": "code",
   "execution_count": 197,
   "id": "66d7b4c9-a3b1-40fe-8817-e764065284b4",
   "metadata": {},
   "outputs": [],
   "source": [
    "from langid.langid import LanguageIdentifier, model"
   ]
  },
  {
   "cell_type": "code",
   "execution_count": 198,
   "id": "64fa32d9-bf0d-47a4-a315-c7133d769704",
   "metadata": {},
   "outputs": [],
   "source": [
    "iso_639_2_iso_639_1 = language_mappings[[\"ISO 639-2\", \"ISO 639-1\"]].set_index(keys=\"ISO 639-2\")[\"ISO 639-1\"].to_dict()\n",
    "# iso_639_2_iso_639_1"
   ]
  },
  {
   "cell_type": "code",
   "execution_count": 199,
   "id": "e18cd086-c6ce-4e0c-9a48-8945a8e13952",
   "metadata": {},
   "outputs": [],
   "source": [
    "# find all languages to include in langid predictions\n",
    "set_languages = [iso_639_2_iso_639_1[i] for i in sample[\"Language\"].unique().tolist()]\n",
    "\n",
    "# unlimited langid preditions\n",
    "lang_identifier = LanguageIdentifier.from_modelstring(model, norm_probs=True)\n",
    "\n",
    "# limiting langid predictions to expected languages (sorry Galician & Afrikaans)\n",
    "lang_identifier_limited = LanguageIdentifier.from_modelstring(model, norm_probs=True)\n",
    "lang_identifier_limited.set_languages(set_languages)"
   ]
  },
  {
   "cell_type": "markdown",
   "id": "e7494894-8426-4544-b2e3-e6289365cd58",
   "metadata": {},
   "source": [
    "#### Generate langid predictions"
   ]
  },
  {
   "cell_type": "code",
   "execution_count": 200,
   "id": "c203b4a9-cf17-4dc3-9dbe-a26e7cd24c12",
   "metadata": {},
   "outputs": [
    {
     "name": "stdout",
     "output_type": "stream",
     "text": [
      "Wall time: 2min 54s\n"
     ]
    }
   ],
   "source": [
    "%%time\n",
    "# 2min, 45s, with no limits on languages\n",
    "\n",
    "sample[\"langid\"] = sample.apply(lambda row: list(lang_identifier.classify(row[\"Sentence\"])), axis=1)\n",
    "\n",
    "sample[\"langid_language\"], sample[\"langid_score\"] = sample[\"langid\"].str\n",
    "sample.drop(columns=[\"langid\"], inplace=True)"
   ]
  },
  {
   "cell_type": "code",
   "execution_count": 201,
   "id": "fa81be89-577d-414c-a185-5fb079902908",
   "metadata": {},
   "outputs": [
    {
     "name": "stdout",
     "output_type": "stream",
     "text": [
      "Wall time: 12.3 s\n"
     ]
    }
   ],
   "source": [
    "%%time\n",
    "# 12s, with limited languages\n",
    "\n",
    "sample[\"langid_limited\"] = sample.apply(lambda row: list(lang_identifier_limited.classify(row[\"Sentence\"])), axis=1)\n",
    "\n",
    "sample[\"langid_limited_language\"], sample[\"langid_limited_score\"] = sample[\"langid_limited\"].str\n",
    "sample.drop(columns=[\"langid_limited\"], inplace=True)"
   ]
  },
  {
   "cell_type": "code",
   "execution_count": 202,
   "id": "e21af4d8-d09c-44c0-b8a5-00b4d0408036",
   "metadata": {},
   "outputs": [],
   "source": [
    "# map Language to English Name & langid_language to English Name\n",
    "ISO_639_2 = language_mappings.set_index(\"ISO 639-2\")\n",
    "ISO_639_2 = ISO_639_2[\"English Name\"].to_dict()\n",
    "sample[\"Language_English_Name\"] = sample[\"Language\"].map(ISO_639_2)\n",
    "\n",
    "ISO_639_1 = language_mappings.set_index(\"ISO 639-1\")\n",
    "ISO_639_1 = ISO_639_1[\"English Name\"].to_dict()\n",
    "sample[\"langid_language_English_Name\"] = sample[\"langid_language\"].map(ISO_639_1)\n",
    "sample[\"langid_limited_language_English_Name\"] = sample[\"langid_limited_language\"].map(ISO_639_1)"
   ]
  },
  {
   "cell_type": "code",
   "execution_count": 203,
   "id": "6dd454f7-97e4-490f-a2e8-d42b1b9d567d",
   "metadata": {},
   "outputs": [
    {
     "data": {
      "text/plain": [
       "Norwegian    10.17\n",
       "Japanese      8.79\n",
       "English       8.53\n",
       "German        8.35\n",
       "Korean        8.33\n",
       "French        8.28\n",
       "Italian       8.15\n",
       "Dutch         8.14\n",
       "Spanish       7.90\n",
       "Chinese       7.88\n",
       "Name: langid_language_English_Name, dtype: float64"
      ]
     },
     "execution_count": 203,
     "metadata": {},
     "output_type": "execute_result"
    }
   ],
   "source": [
    "round(sample[\"langid_language_English_Name\"].value_counts(normalize=True, dropna=False) * 100,2)[:10]"
   ]
  },
  {
   "cell_type": "code",
   "execution_count": 204,
   "id": "125e7204-9b40-4908-ab1a-bafc7bbe04c7",
   "metadata": {},
   "outputs": [
    {
     "data": {
      "text/plain": [
       "Japanese      8.79\n",
       "English       8.64\n",
       "Norwegian     8.50\n",
       "French        8.46\n",
       "German        8.44\n",
       "Spanish       8.40\n",
       "Korean        8.33\n",
       "Italian       8.28\n",
       "Dutch         8.26\n",
       "Portuguese    8.12\n",
       "Name: langid_limited_language_English_Name, dtype: float64"
      ]
     },
     "execution_count": 204,
     "metadata": {},
     "output_type": "execute_result"
    }
   ],
   "source": [
    "round(sample[\"langid_limited_language_English_Name\"].value_counts(normalize=True, dropna=False) * 100,2)[:10]"
   ]
  },
  {
   "cell_type": "markdown",
   "id": "fcae5725-d9d8-46df-853b-1d8d5890a9c4",
   "metadata": {},
   "source": [
    "# langdetect"
   ]
  },
  {
   "cell_type": "code",
   "execution_count": 205,
   "id": "1c07cf0b-5edc-4a70-8ec5-cb186751b73e",
   "metadata": {},
   "outputs": [],
   "source": [
    "from langdetect import DetectorFactory\n",
    "DetectorFactory.seed = 7"
   ]
  },
  {
   "cell_type": "code",
   "execution_count": 206,
   "id": "6f260389-5b6b-4283-bf0b-50a5e464557b",
   "metadata": {},
   "outputs": [],
   "source": [
    "from langdetect import detect_langs"
   ]
  },
  {
   "cell_type": "code",
   "execution_count": 207,
   "id": "41c64f4f-7e0e-4c23-b9f3-cebdd8ebe5dd",
   "metadata": {},
   "outputs": [],
   "source": [
    "def get_langdetect_prediction(this_string: str):\n",
    "    \"\"\"\n",
    "    Run langdetect on a sentence and get the results.\n",
    "    \n",
    "    Args:\n",
    "    this_string - str; the sentence to run through langdetect.\n",
    "    \n",
    "    Returns:\n",
    "    result - langdetect.language.Language; the langdetect output.\n",
    "    \"\"\"\n",
    "    assert isinstance(this_string, str), \"this_string is not of type str.\"\n",
    "    \n",
    "    result = None\n",
    "    if len(this_string)>0:\n",
    "        try:\n",
    "            result = detect_langs(this_string)[0]\n",
    "        except:\n",
    "            result = \"Error\"\n",
    "            print(f\"Error processing sentence: {this_string}\")\n",
    "    return result"
   ]
  },
  {
   "cell_type": "code",
   "execution_count": 208,
   "id": "ea2be769-e42a-4c80-9de4-3b17a9e8e602",
   "metadata": {},
   "outputs": [
    {
     "name": "stdout",
     "output_type": "stream",
     "text": [
      "Error processing sentence: 咦！？\n",
      "Wall time: 3min 33s\n"
     ]
    }
   ],
   "source": [
    "%%time\n",
    "# 3min 34s\n",
    "\n",
    "sample[\"langdetect\"] = sample.apply(lambda row: get_langdetect_prediction(row[\"Sentence\"]), axis=1)"
   ]
  },
  {
   "cell_type": "code",
   "execution_count": 209,
   "id": "207658b2-60b1-4e19-9580-ae7e9275d452",
   "metadata": {},
   "outputs": [],
   "source": [
    "def get_langdetect_lang(this_result):\n",
    "    \"\"\"\n",
    "    Get the language-component from the langdetect results.\n",
    "    \n",
    "    Args:\n",
    "    this_result - langdetect.language.Language; the langdetect output.\n",
    "    \n",
    "    Returns:\n",
    "    result - str; 2-character identifier for the predicted language.\n",
    "    \"\"\"\n",
    "    result = \"!!\"\n",
    "    if this_result:\n",
    "        try:\n",
    "            result = this_result.lang\n",
    "            result = result.split(\"-\")[0] # mainly for zh-cn\n",
    "        except:\n",
    "            pass\n",
    "    return result\n",
    "\n",
    "def get_langdetect_prob(this_result):\n",
    "    \"\"\"\n",
    "    Get the probability-component from the langdetect results.\n",
    "    \n",
    "    Args:\n",
    "    this_result - langdetect.language.Language; the langdetect output.\n",
    "    \n",
    "    Returns:\n",
    "    result - float; the probability for the predicted language.\n",
    "    \"\"\"\n",
    "    result = 0.0\n",
    "    if this_result:\n",
    "        try:\n",
    "            result = this_result.prob\n",
    "        except:\n",
    "            pass\n",
    "    return result"
   ]
  },
  {
   "cell_type": "code",
   "execution_count": 210,
   "id": "e31301f0-bcd4-45b6-81b9-e6bf8b5e9c32",
   "metadata": {},
   "outputs": [],
   "source": [
    "sample[\"langdetect_language\"] = sample.apply(lambda row: get_langdetect_lang(row[\"langdetect\"]), axis=1)\n",
    "sample[\"langdetect_score\"] = sample.apply(lambda row: get_langdetect_prob(row[\"langdetect\"]), axis=1)\n",
    "# sample.drop(columns=[\"langdetect\"], inplace=True)"
   ]
  },
  {
   "cell_type": "code",
   "execution_count": 211,
   "id": "d82ab74a-1c30-4791-ad42-1f6d4057bbcc",
   "metadata": {},
   "outputs": [],
   "source": [
    "sample[\"langdetect_language_English_Name\"] = sample[\"langdetect_language\"].map(ISO_639_1)"
   ]
  },
  {
   "cell_type": "code",
   "execution_count": 212,
   "id": "3950862f-5e36-4620-9b8b-8392294027cf",
   "metadata": {},
   "outputs": [
    {
     "data": {
      "text/plain": [
       "ko    10.66\n",
       "no     8.93\n",
       "pt     8.36\n",
       "fr     8.35\n",
       "ja     8.26\n",
       "de     8.22\n",
       "en     8.16\n",
       "it     8.15\n",
       "es     7.87\n",
       "nl     7.51\n",
       "Name: langdetect_language, dtype: float64"
      ]
     },
     "execution_count": 212,
     "metadata": {},
     "output_type": "execute_result"
    }
   ],
   "source": [
    "round(sample[\"langdetect_language\"].value_counts(normalize=True, dropna=False) * 100,2)[:10]"
   ]
  },
  {
   "cell_type": "markdown",
   "id": "3ef3f61f-2cb4-4c94-9679-a6991c1f631a",
   "metadata": {},
   "source": [
    "# textblob\n",
    "> Currently, requests from IP are blocked by Google"
   ]
  },
  {
   "cell_type": "code",
   "execution_count": 213,
   "id": "d34c3027-46d8-4841-ba0a-18e1b86728ad",
   "metadata": {},
   "outputs": [],
   "source": [
    "# from textblob import TextBlob"
   ]
  },
  {
   "cell_type": "code",
   "execution_count": 214,
   "id": "b04855ca-339c-423f-832e-be9f2bdc823d",
   "metadata": {},
   "outputs": [],
   "source": [
    "# sample[\"textblob\"] = sample.apply(lambda x: TextBlob(str(sample[\"Sentence\"])).detect_language(), axis=1) # HTTP Error 429: Too Many Requests"
   ]
  },
  {
   "cell_type": "markdown",
   "id": "02df5ec8-e7af-4424-b755-a962007de017",
   "metadata": {},
   "source": [
    "# googletrans\n",
    "#### Unofficial & unsupported access to Google Translate API - support could be terminated at any time\n",
    "#### Only used to evaluate results & approximate differences in results\n",
    "> Currently, requests from IP are blocked by Google ?"
   ]
  },
  {
   "cell_type": "code",
   "execution_count": 215,
   "id": "e70b2fc1-9bd7-46f9-a8a2-11fb163f08ac",
   "metadata": {},
   "outputs": [],
   "source": [
    "# from googletrans import Translator"
   ]
  },
  {
   "cell_type": "code",
   "execution_count": 216,
   "id": "2c896805-c31d-4404-99ec-c32481744626",
   "metadata": {},
   "outputs": [],
   "source": [
    "# translator = Translator()\n",
    "\n",
    "# translator.detect(\"this is an English sentence.\")"
   ]
  },
  {
   "cell_type": "code",
   "execution_count": 217,
   "id": "59814272-3371-4c7b-a11b-d6515a224f02",
   "metadata": {},
   "outputs": [],
   "source": [
    "# def get_googletrans_prediction(this_string: str):\n",
    "#     \"\"\"\n",
    "#     Run googletrans on a sentence and get the results.\n",
    "    \n",
    "#     Args:\n",
    "#     this_string - str; the sentence to run through langdetect.\n",
    "    \n",
    "#     Returns:\n",
    "#     result - ???; the googletrans output.\n",
    "#     \"\"\"\n",
    "#     assert isinstance(this_string, str), \"this_string is not of type str.\"\n",
    "    \n",
    "#     result = None\n",
    "#     if len(this_string)>0:\n",
    "#         try:\n",
    "#             result = translator.detect(this_string)\n",
    "#         except Exception as e:\n",
    "#             result = \"Error\"\n",
    "#             print(repr(e))\n",
    "# #             print(f\"Error processing sentence: {this_string}\")\n",
    "#     return result"
   ]
  },
  {
   "cell_type": "code",
   "execution_count": 218,
   "id": "5bf3d65a-ad07-478e-8e25-86ac8d5ee3d8",
   "metadata": {},
   "outputs": [],
   "source": [
    "# short_sample = sample.sample(10)"
   ]
  },
  {
   "cell_type": "code",
   "execution_count": 219,
   "id": "276eed6c-78cd-4231-920c-74e3844abe0b",
   "metadata": {},
   "outputs": [],
   "source": [
    "# short_sample[\"googletrans\"] = short_sample.apply(lambda x: get_googletrans_prediction(x[\"Sentence\"]), axis=1)"
   ]
  },
  {
   "cell_type": "markdown",
   "id": "c4c9c128-6d68-4ea9-9d88-e2d9b8fba88f",
   "metadata": {},
   "source": [
    "# Evaluate overall results"
   ]
  },
  {
   "cell_type": "code",
   "execution_count": 220,
   "id": "b256ee49-7f7e-431a-8844-8ab2cbb79962",
   "metadata": {},
   "outputs": [],
   "source": [
    "from sklearn.metrics import f1_score"
   ]
  },
  {
   "cell_type": "markdown",
   "id": "f086c3b8-53ae-4825-b3af-3b9c0a4607be",
   "metadata": {},
   "source": [
    "## F1 scores"
   ]
  },
  {
   "cell_type": "code",
   "execution_count": 221,
   "id": "fc7dd39d-549f-47e1-b6c4-73ba86f7b870",
   "metadata": {},
   "outputs": [],
   "source": [
    "labels = sample[\"Language_English_Name\"].unique().tolist()\n",
    "# labels"
   ]
  },
  {
   "cell_type": "markdown",
   "id": "cf37edb5-b5fb-4fbe-8cf7-2cbed7e91e95",
   "metadata": {},
   "source": [
    "#### langid"
   ]
  },
  {
   "cell_type": "code",
   "execution_count": 222,
   "id": "96b50468-fe12-4e63-bf9e-c6f9ad4fb870",
   "metadata": {},
   "outputs": [
    {
     "name": "stdout",
     "output_type": "stream",
     "text": [
      "langid F1: 0.94\n"
     ]
    }
   ],
   "source": [
    "langid_f1 = round(f1_score(\n",
    "    sample[\"Language_English_Name\"],\n",
    "    sample[\"langid_language_English_Name\"],\n",
    "    labels=labels,\n",
    "    average=\"weighted\"\n",
    "),2)\n",
    "\n",
    "print(f\"langid F1: {langid_f1}\")"
   ]
  },
  {
   "cell_type": "code",
   "execution_count": 223,
   "id": "b9ba210c-5d1c-4409-b49a-50869dd4e0e7",
   "metadata": {},
   "outputs": [
    {
     "name": "stdout",
     "output_type": "stream",
     "text": [
      "langid limited F1: 0.95\n"
     ]
    }
   ],
   "source": [
    "langid_limited_f1 = round(f1_score(\n",
    "    sample[\"Language_English_Name\"],\n",
    "    sample[\"langid_limited_language_English_Name\"],\n",
    "    labels=labels,\n",
    "    average=\"weighted\"\n",
    "),2)\n",
    "\n",
    "print(f\"langid limited F1: {langid_limited_f1}\")"
   ]
  },
  {
   "cell_type": "markdown",
   "id": "0719a3d2-1d6b-4c3f-a4f6-09d78e1a80e0",
   "metadata": {},
   "source": [
    "#### langdetect"
   ]
  },
  {
   "cell_type": "code",
   "execution_count": 224,
   "id": "f852d79c-6d7f-4a9d-9916-cf24cabcdf51",
   "metadata": {},
   "outputs": [
    {
     "name": "stdout",
     "output_type": "stream",
     "text": [
      "langdetect F1: 0.93\n"
     ]
    }
   ],
   "source": [
    "langdetect_f1 = round(f1_score(\n",
    "    sample[\"Language_English_Name\"],\n",
    "    sample[\"langdetect_language_English_Name\"],\n",
    "    labels=labels,\n",
    "    average=\"weighted\"\n",
    "),2)\n",
    "\n",
    "print(f\"langdetect F1: {langdetect_f1}\")"
   ]
  },
  {
   "cell_type": "markdown",
   "id": "555c933c-1830-421d-aac5-8213dbc56c82",
   "metadata": {},
   "source": [
    "> Overall, langid performs slightly better than langdetect, .94 & .93 respectively. Even more so when langid predictions are limited to expected languages (.95). Also, langid runs much faster when limited."
   ]
  },
  {
   "cell_type": "markdown",
   "id": "6cb53e87-a0cc-44d4-bd60-0b119f8473e4",
   "metadata": {},
   "source": [
    "## Full, simple confusion matrices"
   ]
  },
  {
   "cell_type": "markdown",
   "id": "94758fcc-6090-4d86-9b14-18c1fc2f1de4",
   "metadata": {},
   "source": [
    "#### langid confusion matrix"
   ]
  },
  {
   "cell_type": "code",
   "execution_count": 225,
   "id": "95538b7b-33d8-435d-961b-e791223e205e",
   "metadata": {},
   "outputs": [
    {
     "data": {
      "text/html": [
       "<div>\n",
       "<style scoped>\n",
       "    .dataframe tbody tr th:only-of-type {\n",
       "        vertical-align: middle;\n",
       "    }\n",
       "\n",
       "    .dataframe tbody tr th {\n",
       "        vertical-align: top;\n",
       "    }\n",
       "\n",
       "    .dataframe thead th {\n",
       "        text-align: right;\n",
       "    }\n",
       "</style>\n",
       "<table border=\"1\" class=\"dataframe\">\n",
       "  <thead>\n",
       "    <tr style=\"text-align: right;\">\n",
       "      <th>langid_language_English_Name</th>\n",
       "      <th>Afrikaans</th>\n",
       "      <th>Albanian</th>\n",
       "      <th>Aragonese</th>\n",
       "      <th>Basque</th>\n",
       "      <th>Bosnian</th>\n",
       "      <th>Breton</th>\n",
       "      <th>Catalan</th>\n",
       "      <th>Chinese</th>\n",
       "      <th>Croatian</th>\n",
       "      <th>Czech</th>\n",
       "      <th>...</th>\n",
       "      <th>Slovenian</th>\n",
       "      <th>Spanish</th>\n",
       "      <th>Swahili</th>\n",
       "      <th>Swedish</th>\n",
       "      <th>Tagalog</th>\n",
       "      <th>Turkish</th>\n",
       "      <th>Vietnamese</th>\n",
       "      <th>Volapük</th>\n",
       "      <th>Walloon</th>\n",
       "      <th>Welsh</th>\n",
       "    </tr>\n",
       "    <tr>\n",
       "      <th>Language_English_Name</th>\n",
       "      <th></th>\n",
       "      <th></th>\n",
       "      <th></th>\n",
       "      <th></th>\n",
       "      <th></th>\n",
       "      <th></th>\n",
       "      <th></th>\n",
       "      <th></th>\n",
       "      <th></th>\n",
       "      <th></th>\n",
       "      <th></th>\n",
       "      <th></th>\n",
       "      <th></th>\n",
       "      <th></th>\n",
       "      <th></th>\n",
       "      <th></th>\n",
       "      <th></th>\n",
       "      <th></th>\n",
       "      <th></th>\n",
       "      <th></th>\n",
       "      <th></th>\n",
       "    </tr>\n",
       "  </thead>\n",
       "  <tbody>\n",
       "    <tr>\n",
       "      <th>Chinese</th>\n",
       "      <td>0</td>\n",
       "      <td>0</td>\n",
       "      <td>0</td>\n",
       "      <td>0</td>\n",
       "      <td>0</td>\n",
       "      <td>0</td>\n",
       "      <td>0</td>\n",
       "      <td>4063</td>\n",
       "      <td>0</td>\n",
       "      <td>0</td>\n",
       "      <td>...</td>\n",
       "      <td>0</td>\n",
       "      <td>0</td>\n",
       "      <td>0</td>\n",
       "      <td>0</td>\n",
       "      <td>0</td>\n",
       "      <td>0</td>\n",
       "      <td>0</td>\n",
       "      <td>0</td>\n",
       "      <td>0</td>\n",
       "      <td>0</td>\n",
       "    </tr>\n",
       "    <tr>\n",
       "      <th>Danish</th>\n",
       "      <td>0</td>\n",
       "      <td>0</td>\n",
       "      <td>0</td>\n",
       "      <td>0</td>\n",
       "      <td>1</td>\n",
       "      <td>0</td>\n",
       "      <td>0</td>\n",
       "      <td>0</td>\n",
       "      <td>3</td>\n",
       "      <td>0</td>\n",
       "      <td>...</td>\n",
       "      <td>0</td>\n",
       "      <td>3</td>\n",
       "      <td>0</td>\n",
       "      <td>18</td>\n",
       "      <td>1</td>\n",
       "      <td>0</td>\n",
       "      <td>0</td>\n",
       "      <td>0</td>\n",
       "      <td>0</td>\n",
       "      <td>3</td>\n",
       "    </tr>\n",
       "    <tr>\n",
       "      <th>Dutch</th>\n",
       "      <td>28</td>\n",
       "      <td>3</td>\n",
       "      <td>0</td>\n",
       "      <td>1</td>\n",
       "      <td>3</td>\n",
       "      <td>1</td>\n",
       "      <td>0</td>\n",
       "      <td>1</td>\n",
       "      <td>2</td>\n",
       "      <td>0</td>\n",
       "      <td>...</td>\n",
       "      <td>9</td>\n",
       "      <td>2</td>\n",
       "      <td>0</td>\n",
       "      <td>1</td>\n",
       "      <td>0</td>\n",
       "      <td>0</td>\n",
       "      <td>0</td>\n",
       "      <td>0</td>\n",
       "      <td>0</td>\n",
       "      <td>0</td>\n",
       "    </tr>\n",
       "    <tr>\n",
       "      <th>English</th>\n",
       "      <td>0</td>\n",
       "      <td>0</td>\n",
       "      <td>0</td>\n",
       "      <td>2</td>\n",
       "      <td>0</td>\n",
       "      <td>0</td>\n",
       "      <td>0</td>\n",
       "      <td>0</td>\n",
       "      <td>0</td>\n",
       "      <td>0</td>\n",
       "      <td>...</td>\n",
       "      <td>0</td>\n",
       "      <td>5</td>\n",
       "      <td>0</td>\n",
       "      <td>2</td>\n",
       "      <td>0</td>\n",
       "      <td>0</td>\n",
       "      <td>0</td>\n",
       "      <td>0</td>\n",
       "      <td>0</td>\n",
       "      <td>0</td>\n",
       "    </tr>\n",
       "    <tr>\n",
       "      <th>French</th>\n",
       "      <td>1</td>\n",
       "      <td>0</td>\n",
       "      <td>0</td>\n",
       "      <td>2</td>\n",
       "      <td>0</td>\n",
       "      <td>12</td>\n",
       "      <td>13</td>\n",
       "      <td>0</td>\n",
       "      <td>1</td>\n",
       "      <td>0</td>\n",
       "      <td>...</td>\n",
       "      <td>0</td>\n",
       "      <td>6</td>\n",
       "      <td>0</td>\n",
       "      <td>0</td>\n",
       "      <td>0</td>\n",
       "      <td>1</td>\n",
       "      <td>0</td>\n",
       "      <td>0</td>\n",
       "      <td>2</td>\n",
       "      <td>1</td>\n",
       "    </tr>\n",
       "    <tr>\n",
       "      <th>German</th>\n",
       "      <td>4</td>\n",
       "      <td>0</td>\n",
       "      <td>1</td>\n",
       "      <td>2</td>\n",
       "      <td>0</td>\n",
       "      <td>1</td>\n",
       "      <td>0</td>\n",
       "      <td>0</td>\n",
       "      <td>0</td>\n",
       "      <td>0</td>\n",
       "      <td>...</td>\n",
       "      <td>0</td>\n",
       "      <td>2</td>\n",
       "      <td>0</td>\n",
       "      <td>12</td>\n",
       "      <td>0</td>\n",
       "      <td>0</td>\n",
       "      <td>0</td>\n",
       "      <td>0</td>\n",
       "      <td>0</td>\n",
       "      <td>1</td>\n",
       "    </tr>\n",
       "    <tr>\n",
       "      <th>Italian</th>\n",
       "      <td>0</td>\n",
       "      <td>0</td>\n",
       "      <td>0</td>\n",
       "      <td>4</td>\n",
       "      <td>0</td>\n",
       "      <td>2</td>\n",
       "      <td>8</td>\n",
       "      <td>0</td>\n",
       "      <td>1</td>\n",
       "      <td>1</td>\n",
       "      <td>...</td>\n",
       "      <td>2</td>\n",
       "      <td>33</td>\n",
       "      <td>0</td>\n",
       "      <td>2</td>\n",
       "      <td>0</td>\n",
       "      <td>0</td>\n",
       "      <td>0</td>\n",
       "      <td>0</td>\n",
       "      <td>1</td>\n",
       "      <td>0</td>\n",
       "    </tr>\n",
       "    <tr>\n",
       "      <th>Japanese</th>\n",
       "      <td>0</td>\n",
       "      <td>0</td>\n",
       "      <td>0</td>\n",
       "      <td>0</td>\n",
       "      <td>0</td>\n",
       "      <td>0</td>\n",
       "      <td>0</td>\n",
       "      <td>15</td>\n",
       "      <td>0</td>\n",
       "      <td>0</td>\n",
       "      <td>...</td>\n",
       "      <td>0</td>\n",
       "      <td>0</td>\n",
       "      <td>0</td>\n",
       "      <td>0</td>\n",
       "      <td>0</td>\n",
       "      <td>0</td>\n",
       "      <td>0</td>\n",
       "      <td>0</td>\n",
       "      <td>0</td>\n",
       "      <td>0</td>\n",
       "    </tr>\n",
       "    <tr>\n",
       "      <th>Korean</th>\n",
       "      <td>0</td>\n",
       "      <td>0</td>\n",
       "      <td>0</td>\n",
       "      <td>0</td>\n",
       "      <td>0</td>\n",
       "      <td>0</td>\n",
       "      <td>0</td>\n",
       "      <td>0</td>\n",
       "      <td>0</td>\n",
       "      <td>1</td>\n",
       "      <td>...</td>\n",
       "      <td>0</td>\n",
       "      <td>0</td>\n",
       "      <td>0</td>\n",
       "      <td>0</td>\n",
       "      <td>0</td>\n",
       "      <td>0</td>\n",
       "      <td>0</td>\n",
       "      <td>0</td>\n",
       "      <td>0</td>\n",
       "      <td>0</td>\n",
       "    </tr>\n",
       "    <tr>\n",
       "      <th>Norwegian</th>\n",
       "      <td>0</td>\n",
       "      <td>0</td>\n",
       "      <td>0</td>\n",
       "      <td>3</td>\n",
       "      <td>0</td>\n",
       "      <td>0</td>\n",
       "      <td>1</td>\n",
       "      <td>0</td>\n",
       "      <td>2</td>\n",
       "      <td>0</td>\n",
       "      <td>...</td>\n",
       "      <td>2</td>\n",
       "      <td>2</td>\n",
       "      <td>0</td>\n",
       "      <td>17</td>\n",
       "      <td>0</td>\n",
       "      <td>2</td>\n",
       "      <td>0</td>\n",
       "      <td>1</td>\n",
       "      <td>0</td>\n",
       "      <td>2</td>\n",
       "    </tr>\n",
       "    <tr>\n",
       "      <th>Portuguese</th>\n",
       "      <td>0</td>\n",
       "      <td>0</td>\n",
       "      <td>2</td>\n",
       "      <td>0</td>\n",
       "      <td>0</td>\n",
       "      <td>2</td>\n",
       "      <td>26</td>\n",
       "      <td>0</td>\n",
       "      <td>0</td>\n",
       "      <td>2</td>\n",
       "      <td>...</td>\n",
       "      <td>1</td>\n",
       "      <td>70</td>\n",
       "      <td>1</td>\n",
       "      <td>0</td>\n",
       "      <td>1</td>\n",
       "      <td>0</td>\n",
       "      <td>1</td>\n",
       "      <td>0</td>\n",
       "      <td>2</td>\n",
       "      <td>2</td>\n",
       "    </tr>\n",
       "    <tr>\n",
       "      <th>Spanish</th>\n",
       "      <td>1</td>\n",
       "      <td>0</td>\n",
       "      <td>3</td>\n",
       "      <td>6</td>\n",
       "      <td>0</td>\n",
       "      <td>0</td>\n",
       "      <td>59</td>\n",
       "      <td>3</td>\n",
       "      <td>1</td>\n",
       "      <td>4</td>\n",
       "      <td>...</td>\n",
       "      <td>2</td>\n",
       "      <td>3969</td>\n",
       "      <td>0</td>\n",
       "      <td>0</td>\n",
       "      <td>1</td>\n",
       "      <td>0</td>\n",
       "      <td>0</td>\n",
       "      <td>0</td>\n",
       "      <td>1</td>\n",
       "      <td>1</td>\n",
       "    </tr>\n",
       "  </tbody>\n",
       "</table>\n",
       "<p>12 rows × 54 columns</p>\n",
       "</div>"
      ],
      "text/plain": [
       "langid_language_English_Name  Afrikaans  Albanian  Aragonese  Basque  Bosnian  \\\n",
       "Language_English_Name                                                           \n",
       "Chinese                               0         0          0       0        0   \n",
       "Danish                                0         0          0       0        1   \n",
       "Dutch                                28         3          0       1        3   \n",
       "English                               0         0          0       2        0   \n",
       "French                                1         0          0       2        0   \n",
       "German                                4         0          1       2        0   \n",
       "Italian                               0         0          0       4        0   \n",
       "Japanese                              0         0          0       0        0   \n",
       "Korean                                0         0          0       0        0   \n",
       "Norwegian                             0         0          0       3        0   \n",
       "Portuguese                            0         0          2       0        0   \n",
       "Spanish                               1         0          3       6        0   \n",
       "\n",
       "langid_language_English_Name  Breton  Catalan  Chinese  Croatian  Czech  ...  \\\n",
       "Language_English_Name                                                    ...   \n",
       "Chinese                            0        0     4063         0      0  ...   \n",
       "Danish                             0        0        0         3      0  ...   \n",
       "Dutch                              1        0        1         2      0  ...   \n",
       "English                            0        0        0         0      0  ...   \n",
       "French                            12       13        0         1      0  ...   \n",
       "German                             1        0        0         0      0  ...   \n",
       "Italian                            2        8        0         1      1  ...   \n",
       "Japanese                           0        0       15         0      0  ...   \n",
       "Korean                             0        0        0         0      1  ...   \n",
       "Norwegian                          0        1        0         2      0  ...   \n",
       "Portuguese                         2       26        0         0      2  ...   \n",
       "Spanish                            0       59        3         1      4  ...   \n",
       "\n",
       "langid_language_English_Name  Slovenian  Spanish  Swahili  Swedish  Tagalog  \\\n",
       "Language_English_Name                                                         \n",
       "Chinese                               0        0        0        0        0   \n",
       "Danish                                0        3        0       18        1   \n",
       "Dutch                                 9        2        0        1        0   \n",
       "English                               0        5        0        2        0   \n",
       "French                                0        6        0        0        0   \n",
       "German                                0        2        0       12        0   \n",
       "Italian                               2       33        0        2        0   \n",
       "Japanese                              0        0        0        0        0   \n",
       "Korean                                0        0        0        0        0   \n",
       "Norwegian                             2        2        0       17        0   \n",
       "Portuguese                            1       70        1        0        1   \n",
       "Spanish                               2     3969        0        0        1   \n",
       "\n",
       "langid_language_English_Name  Turkish  Vietnamese  Volapük  Walloon  Welsh  \n",
       "Language_English_Name                                                       \n",
       "Chinese                             0           0        0        0      0  \n",
       "Danish                              0           0        0        0      3  \n",
       "Dutch                               0           0        0        0      0  \n",
       "English                             0           0        0        0      0  \n",
       "French                              1           0        0        2      1  \n",
       "German                              0           0        0        0      1  \n",
       "Italian                             0           0        0        1      0  \n",
       "Japanese                            0           0        0        0      0  \n",
       "Korean                              0           0        0        0      0  \n",
       "Norwegian                           2           0        1        0      2  \n",
       "Portuguese                          0           1        0        2      2  \n",
       "Spanish                             0           0        0        1      1  \n",
       "\n",
       "[12 rows x 54 columns]"
      ]
     },
     "execution_count": 225,
     "metadata": {},
     "output_type": "execute_result"
    }
   ],
   "source": [
    "pd.crosstab(sample[\"Language_English_Name\"], sample[\"langid_language_English_Name\"])"
   ]
  },
  {
   "cell_type": "markdown",
   "id": "851c4fde-1d10-4182-b6f3-4b8e4551aaba",
   "metadata": {},
   "source": [
    "#### langdetect confusion matrix"
   ]
  },
  {
   "cell_type": "code",
   "execution_count": 226,
   "id": "c48161eb-6a47-4713-a20c-744f58422c38",
   "metadata": {},
   "outputs": [
    {
     "data": {
      "text/html": [
       "<div>\n",
       "<style scoped>\n",
       "    .dataframe tbody tr th:only-of-type {\n",
       "        vertical-align: middle;\n",
       "    }\n",
       "\n",
       "    .dataframe tbody tr th {\n",
       "        vertical-align: top;\n",
       "    }\n",
       "\n",
       "    .dataframe thead th {\n",
       "        text-align: right;\n",
       "    }\n",
       "</style>\n",
       "<table border=\"1\" class=\"dataframe\">\n",
       "  <thead>\n",
       "    <tr style=\"text-align: right;\">\n",
       "      <th>langdetect_language_English_Name</th>\n",
       "      <th>Afrikaans</th>\n",
       "      <th>Albanian</th>\n",
       "      <th>Catalan</th>\n",
       "      <th>Chinese</th>\n",
       "      <th>Croatian</th>\n",
       "      <th>Czech</th>\n",
       "      <th>Danish</th>\n",
       "      <th>Dutch</th>\n",
       "      <th>English</th>\n",
       "      <th>Error</th>\n",
       "      <th>...</th>\n",
       "      <th>Slovak</th>\n",
       "      <th>Slovenian</th>\n",
       "      <th>Somali</th>\n",
       "      <th>Spanish</th>\n",
       "      <th>Swahili</th>\n",
       "      <th>Swedish</th>\n",
       "      <th>Tagalog</th>\n",
       "      <th>Turkish</th>\n",
       "      <th>Vietnamese</th>\n",
       "      <th>Welsh</th>\n",
       "    </tr>\n",
       "    <tr>\n",
       "      <th>Language_English_Name</th>\n",
       "      <th></th>\n",
       "      <th></th>\n",
       "      <th></th>\n",
       "      <th></th>\n",
       "      <th></th>\n",
       "      <th></th>\n",
       "      <th></th>\n",
       "      <th></th>\n",
       "      <th></th>\n",
       "      <th></th>\n",
       "      <th></th>\n",
       "      <th></th>\n",
       "      <th></th>\n",
       "      <th></th>\n",
       "      <th></th>\n",
       "      <th></th>\n",
       "      <th></th>\n",
       "      <th></th>\n",
       "      <th></th>\n",
       "      <th></th>\n",
       "      <th></th>\n",
       "    </tr>\n",
       "  </thead>\n",
       "  <tbody>\n",
       "    <tr>\n",
       "      <th>Chinese</th>\n",
       "      <td>3</td>\n",
       "      <td>0</td>\n",
       "      <td>0</td>\n",
       "      <td>3106</td>\n",
       "      <td>0</td>\n",
       "      <td>0</td>\n",
       "      <td>0</td>\n",
       "      <td>0</td>\n",
       "      <td>4</td>\n",
       "      <td>1</td>\n",
       "      <td>...</td>\n",
       "      <td>4</td>\n",
       "      <td>0</td>\n",
       "      <td>0</td>\n",
       "      <td>1</td>\n",
       "      <td>2</td>\n",
       "      <td>1</td>\n",
       "      <td>1</td>\n",
       "      <td>1</td>\n",
       "      <td>6</td>\n",
       "      <td>0</td>\n",
       "    </tr>\n",
       "    <tr>\n",
       "      <th>Danish</th>\n",
       "      <td>17</td>\n",
       "      <td>0</td>\n",
       "      <td>0</td>\n",
       "      <td>0</td>\n",
       "      <td>6</td>\n",
       "      <td>0</td>\n",
       "      <td>3394</td>\n",
       "      <td>10</td>\n",
       "      <td>7</td>\n",
       "      <td>0</td>\n",
       "      <td>...</td>\n",
       "      <td>1</td>\n",
       "      <td>3</td>\n",
       "      <td>1</td>\n",
       "      <td>1</td>\n",
       "      <td>0</td>\n",
       "      <td>47</td>\n",
       "      <td>2</td>\n",
       "      <td>1</td>\n",
       "      <td>0</td>\n",
       "      <td>5</td>\n",
       "    </tr>\n",
       "    <tr>\n",
       "      <th>Dutch</th>\n",
       "      <td>391</td>\n",
       "      <td>1</td>\n",
       "      <td>0</td>\n",
       "      <td>0</td>\n",
       "      <td>10</td>\n",
       "      <td>0</td>\n",
       "      <td>6</td>\n",
       "      <td>3832</td>\n",
       "      <td>10</td>\n",
       "      <td>0</td>\n",
       "      <td>...</td>\n",
       "      <td>0</td>\n",
       "      <td>6</td>\n",
       "      <td>4</td>\n",
       "      <td>1</td>\n",
       "      <td>1</td>\n",
       "      <td>4</td>\n",
       "      <td>0</td>\n",
       "      <td>1</td>\n",
       "      <td>0</td>\n",
       "      <td>0</td>\n",
       "    </tr>\n",
       "    <tr>\n",
       "      <th>English</th>\n",
       "      <td>28</td>\n",
       "      <td>1</td>\n",
       "      <td>2</td>\n",
       "      <td>0</td>\n",
       "      <td>1</td>\n",
       "      <td>0</td>\n",
       "      <td>14</td>\n",
       "      <td>20</td>\n",
       "      <td>4142</td>\n",
       "      <td>0</td>\n",
       "      <td>...</td>\n",
       "      <td>3</td>\n",
       "      <td>4</td>\n",
       "      <td>4</td>\n",
       "      <td>3</td>\n",
       "      <td>0</td>\n",
       "      <td>2</td>\n",
       "      <td>10</td>\n",
       "      <td>1</td>\n",
       "      <td>1</td>\n",
       "      <td>11</td>\n",
       "    </tr>\n",
       "    <tr>\n",
       "      <th>French</th>\n",
       "      <td>4</td>\n",
       "      <td>0</td>\n",
       "      <td>19</td>\n",
       "      <td>0</td>\n",
       "      <td>3</td>\n",
       "      <td>1</td>\n",
       "      <td>1</td>\n",
       "      <td>4</td>\n",
       "      <td>7</td>\n",
       "      <td>0</td>\n",
       "      <td>...</td>\n",
       "      <td>2</td>\n",
       "      <td>2</td>\n",
       "      <td>0</td>\n",
       "      <td>6</td>\n",
       "      <td>0</td>\n",
       "      <td>0</td>\n",
       "      <td>1</td>\n",
       "      <td>1</td>\n",
       "      <td>1</td>\n",
       "      <td>0</td>\n",
       "    </tr>\n",
       "    <tr>\n",
       "      <th>German</th>\n",
       "      <td>21</td>\n",
       "      <td>0</td>\n",
       "      <td>1</td>\n",
       "      <td>0</td>\n",
       "      <td>0</td>\n",
       "      <td>0</td>\n",
       "      <td>5</td>\n",
       "      <td>15</td>\n",
       "      <td>23</td>\n",
       "      <td>0</td>\n",
       "      <td>...</td>\n",
       "      <td>1</td>\n",
       "      <td>0</td>\n",
       "      <td>0</td>\n",
       "      <td>2</td>\n",
       "      <td>0</td>\n",
       "      <td>9</td>\n",
       "      <td>3</td>\n",
       "      <td>2</td>\n",
       "      <td>0</td>\n",
       "      <td>0</td>\n",
       "    </tr>\n",
       "    <tr>\n",
       "      <th>Italian</th>\n",
       "      <td>0</td>\n",
       "      <td>0</td>\n",
       "      <td>18</td>\n",
       "      <td>0</td>\n",
       "      <td>1</td>\n",
       "      <td>0</td>\n",
       "      <td>4</td>\n",
       "      <td>1</td>\n",
       "      <td>16</td>\n",
       "      <td>0</td>\n",
       "      <td>...</td>\n",
       "      <td>2</td>\n",
       "      <td>4</td>\n",
       "      <td>0</td>\n",
       "      <td>22</td>\n",
       "      <td>1</td>\n",
       "      <td>0</td>\n",
       "      <td>6</td>\n",
       "      <td>0</td>\n",
       "      <td>1</td>\n",
       "      <td>1</td>\n",
       "    </tr>\n",
       "    <tr>\n",
       "      <th>Japanese</th>\n",
       "      <td>0</td>\n",
       "      <td>0</td>\n",
       "      <td>0</td>\n",
       "      <td>11</td>\n",
       "      <td>0</td>\n",
       "      <td>0</td>\n",
       "      <td>0</td>\n",
       "      <td>0</td>\n",
       "      <td>0</td>\n",
       "      <td>0</td>\n",
       "      <td>...</td>\n",
       "      <td>0</td>\n",
       "      <td>0</td>\n",
       "      <td>0</td>\n",
       "      <td>0</td>\n",
       "      <td>0</td>\n",
       "      <td>0</td>\n",
       "      <td>0</td>\n",
       "      <td>0</td>\n",
       "      <td>0</td>\n",
       "      <td>0</td>\n",
       "    </tr>\n",
       "    <tr>\n",
       "      <th>Korean</th>\n",
       "      <td>0</td>\n",
       "      <td>0</td>\n",
       "      <td>0</td>\n",
       "      <td>0</td>\n",
       "      <td>0</td>\n",
       "      <td>0</td>\n",
       "      <td>0</td>\n",
       "      <td>0</td>\n",
       "      <td>0</td>\n",
       "      <td>0</td>\n",
       "      <td>...</td>\n",
       "      <td>0</td>\n",
       "      <td>0</td>\n",
       "      <td>0</td>\n",
       "      <td>0</td>\n",
       "      <td>0</td>\n",
       "      <td>0</td>\n",
       "      <td>0</td>\n",
       "      <td>0</td>\n",
       "      <td>0</td>\n",
       "      <td>0</td>\n",
       "    </tr>\n",
       "    <tr>\n",
       "      <th>Norwegian</th>\n",
       "      <td>11</td>\n",
       "      <td>1</td>\n",
       "      <td>0</td>\n",
       "      <td>0</td>\n",
       "      <td>3</td>\n",
       "      <td>0</td>\n",
       "      <td>434</td>\n",
       "      <td>5</td>\n",
       "      <td>4</td>\n",
       "      <td>0</td>\n",
       "      <td>...</td>\n",
       "      <td>0</td>\n",
       "      <td>5</td>\n",
       "      <td>1</td>\n",
       "      <td>0</td>\n",
       "      <td>1</td>\n",
       "      <td>44</td>\n",
       "      <td>1</td>\n",
       "      <td>1</td>\n",
       "      <td>0</td>\n",
       "      <td>2</td>\n",
       "    </tr>\n",
       "    <tr>\n",
       "      <th>Portuguese</th>\n",
       "      <td>0</td>\n",
       "      <td>0</td>\n",
       "      <td>56</td>\n",
       "      <td>0</td>\n",
       "      <td>4</td>\n",
       "      <td>0</td>\n",
       "      <td>0</td>\n",
       "      <td>1</td>\n",
       "      <td>3</td>\n",
       "      <td>0</td>\n",
       "      <td>...</td>\n",
       "      <td>2</td>\n",
       "      <td>0</td>\n",
       "      <td>0</td>\n",
       "      <td>76</td>\n",
       "      <td>1</td>\n",
       "      <td>0</td>\n",
       "      <td>0</td>\n",
       "      <td>0</td>\n",
       "      <td>1</td>\n",
       "      <td>0</td>\n",
       "    </tr>\n",
       "    <tr>\n",
       "      <th>Spanish</th>\n",
       "      <td>1</td>\n",
       "      <td>0</td>\n",
       "      <td>74</td>\n",
       "      <td>0</td>\n",
       "      <td>1</td>\n",
       "      <td>1</td>\n",
       "      <td>1</td>\n",
       "      <td>0</td>\n",
       "      <td>9</td>\n",
       "      <td>0</td>\n",
       "      <td>...</td>\n",
       "      <td>5</td>\n",
       "      <td>3</td>\n",
       "      <td>5</td>\n",
       "      <td>3967</td>\n",
       "      <td>1</td>\n",
       "      <td>0</td>\n",
       "      <td>1</td>\n",
       "      <td>1</td>\n",
       "      <td>0</td>\n",
       "      <td>1</td>\n",
       "    </tr>\n",
       "  </tbody>\n",
       "</table>\n",
       "<p>12 rows × 35 columns</p>\n",
       "</div>"
      ],
      "text/plain": [
       "langdetect_language_English_Name  Afrikaans  Albanian  Catalan  Chinese  \\\n",
       "Language_English_Name                                                     \n",
       "Chinese                                   3         0        0     3106   \n",
       "Danish                                   17         0        0        0   \n",
       "Dutch                                   391         1        0        0   \n",
       "English                                  28         1        2        0   \n",
       "French                                    4         0       19        0   \n",
       "German                                   21         0        1        0   \n",
       "Italian                                   0         0       18        0   \n",
       "Japanese                                  0         0        0       11   \n",
       "Korean                                    0         0        0        0   \n",
       "Norwegian                                11         1        0        0   \n",
       "Portuguese                                0         0       56        0   \n",
       "Spanish                                   1         0       74        0   \n",
       "\n",
       "langdetect_language_English_Name  Croatian  Czech  Danish  Dutch  English  \\\n",
       "Language_English_Name                                                       \n",
       "Chinese                                  0      0       0      0        4   \n",
       "Danish                                   6      0    3394     10        7   \n",
       "Dutch                                   10      0       6   3832       10   \n",
       "English                                  1      0      14     20     4142   \n",
       "French                                   3      1       1      4        7   \n",
       "German                                   0      0       5     15       23   \n",
       "Italian                                  1      0       4      1       16   \n",
       "Japanese                                 0      0       0      0        0   \n",
       "Korean                                   0      0       0      0        0   \n",
       "Norwegian                                3      0     434      5        4   \n",
       "Portuguese                               4      0       0      1        3   \n",
       "Spanish                                  1      1       1      0        9   \n",
       "\n",
       "langdetect_language_English_Name  Error  ...  Slovak  Slovenian  Somali  \\\n",
       "Language_English_Name                    ...                              \n",
       "Chinese                               1  ...       4          0       0   \n",
       "Danish                                0  ...       1          3       1   \n",
       "Dutch                                 0  ...       0          6       4   \n",
       "English                               0  ...       3          4       4   \n",
       "French                                0  ...       2          2       0   \n",
       "German                                0  ...       1          0       0   \n",
       "Italian                               0  ...       2          4       0   \n",
       "Japanese                              0  ...       0          0       0   \n",
       "Korean                                0  ...       0          0       0   \n",
       "Norwegian                             0  ...       0          5       1   \n",
       "Portuguese                            0  ...       2          0       0   \n",
       "Spanish                               0  ...       5          3       5   \n",
       "\n",
       "langdetect_language_English_Name  Spanish  Swahili  Swedish  Tagalog  Turkish  \\\n",
       "Language_English_Name                                                           \n",
       "Chinese                                 1        2        1        1        1   \n",
       "Danish                                  1        0       47        2        1   \n",
       "Dutch                                   1        1        4        0        1   \n",
       "English                                 3        0        2       10        1   \n",
       "French                                  6        0        0        1        1   \n",
       "German                                  2        0        9        3        2   \n",
       "Italian                                22        1        0        6        0   \n",
       "Japanese                                0        0        0        0        0   \n",
       "Korean                                  0        0        0        0        0   \n",
       "Norwegian                               0        1       44        1        1   \n",
       "Portuguese                             76        1        0        0        0   \n",
       "Spanish                              3967        1        0        1        1   \n",
       "\n",
       "langdetect_language_English_Name  Vietnamese  Welsh  \n",
       "Language_English_Name                                \n",
       "Chinese                                    6      0  \n",
       "Danish                                     0      5  \n",
       "Dutch                                      0      0  \n",
       "English                                    1     11  \n",
       "French                                     1      0  \n",
       "German                                     0      0  \n",
       "Italian                                    1      1  \n",
       "Japanese                                   0      0  \n",
       "Korean                                     0      0  \n",
       "Norwegian                                  0      2  \n",
       "Portuguese                                 1      0  \n",
       "Spanish                                    0      1  \n",
       "\n",
       "[12 rows x 35 columns]"
      ]
     },
     "execution_count": 226,
     "metadata": {},
     "output_type": "execute_result"
    }
   ],
   "source": [
    "pd.crosstab(sample[\"Language_English_Name\"], sample[\"langdetect_language_English_Name\"])"
   ]
  },
  {
   "cell_type": "markdown",
   "id": "9ada44c4-73ba-43bd-aeec-7f412aacd010",
   "metadata": {},
   "source": [
    "## Limited, colorful confusion matrices"
   ]
  },
  {
   "cell_type": "code",
   "execution_count": 227,
   "id": "8f6df35f-3b37-4d96-b8db-ea2a1a9faa64",
   "metadata": {},
   "outputs": [],
   "source": [
    "import matplotlib.pyplot as plt\n",
    "import numpy as np\n",
    "import itertools"
   ]
  },
  {
   "cell_type": "code",
   "execution_count": 228,
   "id": "15e2fe22-c051-46a3-a710-83c6a0ad0b53",
   "metadata": {},
   "outputs": [],
   "source": [
    "\"\"\"\n",
    "Below is a modified function from user Calvin Duy Canh Tran on Stack Overflow to plot a confusion matrix with any number of labels.\n",
    "You can check out the original post on SO here: https://stackoverflow.com/a/50386871/1576558.\n",
    "\"\"\"\n",
    "\n",
    "def plot_confusion_matrix(cm,\n",
    "                          target_names,\n",
    "                          title='Confusion matrix',\n",
    "                          cmap=None,\n",
    "                          normalize=True):\n",
    "    \"\"\"\n",
    "    given a sklearn confusion matrix (cm), make a nice plot\n",
    "\n",
    "    Arguments\n",
    "    ---------\n",
    "    cm:           confusion matrix from sklearn.metrics.confusion_matrix\n",
    "\n",
    "    target_names: given classification classes such as [0, 1, 2]\n",
    "                  the class names, for example: ['high', 'medium', 'low']\n",
    "\n",
    "    title:        the text to display at the top of the matrix\n",
    "\n",
    "    cmap:         the gradient of the values displayed from matplotlib.pyplot.cm\n",
    "                  see http://matplotlib.org/examples/color/colormaps_reference.html\n",
    "                  plt.get_cmap('jet') or plt.cm.Blues\n",
    "\n",
    "    normalize:    If False, plot the raw numbers\n",
    "                  If True, plot the proportions\n",
    "\n",
    "    Usage\n",
    "    -----\n",
    "    plot_confusion_matrix(cm           = cm,                  # confusion matrix created by\n",
    "                                                              # sklearn.metrics.confusion_matrix\n",
    "                          normalize    = True,                # show proportions\n",
    "                          target_names = y_labels_vals,       # list of names of the classes\n",
    "                          title        = best_estimator_name) # title of graph\n",
    "\n",
    "    Citiation\n",
    "    ---------\n",
    "    http://scikit-learn.org/stable/auto_examples/model_selection/plot_confusion_matrix.html\n",
    "\n",
    "    \"\"\"\n",
    "    \n",
    "    np.fill_diagonal(cm, 0) # fill the diagonal with zeroes to emphasize errors not correct predictions\n",
    "    \n",
    "    accuracy = np.trace(cm) / np.sum(cm).astype('float')\n",
    "    misclass = 1 - accuracy\n",
    "\n",
    "    if cmap is None:\n",
    "        cmap = plt.get_cmap('Purples')\n",
    "\n",
    "    plt.figure(figsize=(20, 10))\n",
    "    plt.imshow(cm, interpolation='nearest', cmap=cmap)\n",
    "    plt.title(title)\n",
    "    plt.colorbar()\n",
    "\n",
    "    if target_names is not None:\n",
    "        tick_marks = np.arange(len(target_names))\n",
    "        plt.xticks(tick_marks, target_names, rotation=90)\n",
    "        plt.yticks(tick_marks, target_names)\n",
    "\n",
    "    if normalize:\n",
    "        cm = cm.astype('float') / cm.sum(axis=1)[:, np.newaxis]\n",
    "\n",
    "\n",
    "    thresh = cm.max() / 1.5 if normalize else cm.max() / 2\n",
    "    for i, j in itertools.product(range(cm.shape[0]), range(cm.shape[1])):\n",
    "        if normalize:\n",
    "            plt.text(j, i, \"{:0.4f}\".format(cm[i, j]),\n",
    "                     horizontalalignment=\"center\",\n",
    "                     color=\"white\" if cm[i, j] > thresh else \"black\")\n",
    "        else:\n",
    "            plt.text(j, i, \"{:,}\".format(cm[i, j]),\n",
    "                     horizontalalignment=\"center\",\n",
    "                     color=\"white\" if cm[i, j] > thresh else \"black\")\n",
    "\n",
    "\n",
    "    plt.tight_layout()\n",
    "    plt.ylabel('True label')\n",
    "    plt.xlabel('Predicted label')\n",
    "    plt.show()"
   ]
  },
  {
   "cell_type": "code",
   "execution_count": 229,
   "id": "8a098a10-8c17-409c-86a0-9849be4b9019",
   "metadata": {},
   "outputs": [],
   "source": [
    "from sklearn.metrics import confusion_matrix"
   ]
  },
  {
   "cell_type": "markdown",
   "id": "13d44862-52fb-4174-926d-8975c14909e2",
   "metadata": {},
   "source": [
    "#### langid confusion matrix"
   ]
  },
  {
   "cell_type": "code",
   "execution_count": 230,
   "id": "403bf4b8-ee5a-48d2-ba05-8bb7f2589531",
   "metadata": {},
   "outputs": [
    {
     "data": {
      "image/png": "[encoded data removed]",
      "text/plain": [
       "<Figure size 1440x720 with 2 Axes>"
      ]
     },
     "metadata": {
      "needs_background": "light"
     },
     "output_type": "display_data"
    }
   ],
   "source": [
    "cm = confusion_matrix(sample[\"Language_English_Name\"], sample[\"langid_language_English_Name\"], labels)\n",
    "plot_confusion_matrix(cm=cm, target_names=labels, normalize=False)"
   ]
  },
  {
   "cell_type": "markdown",
   "id": "ad5262c4-5975-4030-b60b-222e0a62cbf3",
   "metadata": {},
   "source": [
    "> langid struggled the most with Danish (1,345 errors), Norwegian (308), & Chinese (254)."
   ]
  },
  {
   "cell_type": "markdown",
   "id": "baebec83-3d8e-4737-b538-2a37b31240d9",
   "metadata": {},
   "source": [
    "#### langid limited confusion matrix"
   ]
  },
  {
   "cell_type": "code",
   "execution_count": 231,
   "id": "24dab101-e79a-4997-8e9e-2b8b1bf066d1",
   "metadata": {},
   "outputs": [
    {
     "data": {
      "image/png": "[encoded data removed]",
      "text/plain": [
       "<Figure size 1440x720 with 2 Axes>"
      ]
     },
     "metadata": {
      "needs_background": "light"
     },
     "output_type": "display_data"
    }
   ],
   "source": [
    "cm = confusion_matrix(sample[\"Language_English_Name\"], sample[\"langid_limited_language_English_Name\"], labels)\n",
    "plot_confusion_matrix(cm=cm, target_names=labels, normalize=False)"
   ]
  },
  {
   "cell_type": "markdown",
   "id": "d8617e6f-db74-4c9e-8c23-527b7f49a999",
   "metadata": {},
   "source": [
    "> There are some unexpected differences between the limited langid predictions & the unlimited ones. Namely, the performance on Norwegian is significantly worse (2x), Portuguese suddenly becomes more problematic, & it performs exactly the same (errors on the same sentences?) on Chinese mistaking 254 sentences for Japanese. Regardless, the limited version of langid also struggled with Danish (820 errors), Norwegian (653), & Chinese (254)."
   ]
  },
  {
   "cell_type": "markdown",
   "id": "cded3a6c-bf88-48de-ab34-935a2c12f902",
   "metadata": {},
   "source": [
    "#### langdetect confusion matrix"
   ]
  },
  {
   "cell_type": "code",
   "execution_count": 232,
   "id": "4d7f755f-806c-4a08-bea1-8bdf788764b6",
   "metadata": {},
   "outputs": [
    {
     "data": {
      "image/png": "[encoded data removed]",
      "text/plain": [
       "<Figure size 1440x720 with 2 Axes>"
      ]
     },
     "metadata": {
      "needs_background": "light"
     },
     "output_type": "display_data"
    }
   ],
   "source": [
    "cm = confusion_matrix(sample[\"Language_English_Name\"], sample[\"langdetect_language_English_Name\"], labels)\n",
    "plot_confusion_matrix(cm=cm, target_names=labels, normalize=False)"
   ]
  },
  {
   "cell_type": "markdown",
   "id": "54c98b27-b082-4c81-accd-de9d3b83a37b",
   "metadata": {},
   "source": [
    "> langdetect struggled with Chinese (1,179 errors), Danish (801), & Norwegian (434)."
   ]
  },
  {
   "cell_type": "markdown",
   "id": "d5deb118-1a04-4bb3-9803-cb71799e53e1",
   "metadata": {},
   "source": [
    "# Takeaways\n",
    "On a high-level langid & langdetect performed similarly in terms of overall F1, .94 & .93 respectively for the unlimited versions. They even struggled with the same languages (Danish, Chinese, & Norwegian) albeit to different extents.\n",
    "\n",
    "We can perform these evaluations on any number of samples using get_predictions.ipynb to see how they generalize but the results are not drastically different than for 1 sample.\n",
    "\n",
    "Based on these results I would opt for using a limited version of langid because 1) it's an order of magnitude faster than langdetect, 2) it inherently provides deterministic results, 3) its F1 score is at least as good as, if not better, than langdetect's (being charitable here by generalizing beyond this sample), & 4) it appears to be less problematic with Chinese than langdetect which is much more common than Danish or Norwegian.\n",
    "\n",
    "We'll extend this evaluation by looking at aggregated results from 100 samples by languages & as a function of sentence length in plot_results.ipynb."
   ]
  },
  {
   "cell_type": "markdown",
   "id": "e72259ae-ff7c-47d2-9cf5-a18b251dba4e",
   "metadata": {},
   "source": [
    "## Capture results as a function of sentence length [optional]"
   ]
  },
  {
   "cell_type": "code",
   "execution_count": 233,
   "id": "e6a59939-a855-4b37-a067-e7e22e75b491",
   "metadata": {},
   "outputs": [],
   "source": [
    "results = []\n",
    "for this_bin in bin_labels:\n",
    "    bin_results = sample[sample[\"Sentence_len_bin\"]==this_bin]\n",
    "    for lang in bin_results[\"Language_English_Name\"].unique().tolist():\n",
    "        these_results = bin_results[(bin_results[\"Language_English_Name\"]==lang)]\n",
    "        for prediction in [\"langid\", \"langdetect\"]:\n",
    "            these_labels = these_results[\"Language_English_Name\"].unique().tolist()\n",
    "            this_f1 = f1_score(these_results[\"Language_English_Name\"], these_results[f\"{prediction}_language_English_Name\"], labels=these_labels, average=\"weighted\")\n",
    "            result = (this_bin, lang, prediction, round(this_f1,2))\n",
    "            results.append(result)"
   ]
  },
  {
   "cell_type": "markdown",
   "id": "eb58c85b-c8b5-47f4-bba6-2730cba8ab72",
   "metadata": {},
   "source": [
    "#### Export results above for plotting"
   ]
  },
  {
   "cell_type": "code",
   "execution_count": 234,
   "id": "4c555d60-bc5c-4377-84d0-0cfddbbc6c55",
   "metadata": {},
   "outputs": [],
   "source": [
    "from datetime import datetime"
   ]
  },
  {
   "cell_type": "code",
   "execution_count": 235,
   "id": "5781bd65-b477-4ea5-978f-449b05bd64e0",
   "metadata": {},
   "outputs": [
    {
     "name": "stdout",
     "output_type": "stream",
     "text": [
      "Results file saved: output/results_df_2021-8-19_1928.csv\n"
     ]
    }
   ],
   "source": [
    "now = datetime.now()\n",
    "datetime_stamp = f\"{now.year}-{now.month}-{now.day}_{now.hour}{now.minute}\"\n",
    "\n",
    "results = pd.DataFrame(data=results, columns=[\"Bin\", \"Language\", \"Source\", \"F1\"])\n",
    "RESULTS_FILE = f\"output/results_df_{datetime_stamp}.csv\"\n",
    "results.to_csv(RESULTS_FILE, index=False)\n",
    "\n",
    "print(f\"Results file saved: {RESULTS_FILE}\")"
   ]
  },
  {
   "cell_type": "markdown",
   "id": "39a0816d-24c5-4b1c-a2a4-cf0a35520493",
   "metadata": {},
   "source": [
    "# End"
   ]
  }
 ],
 "metadata": {
  "kernelspec": {
   "display_name": "Python 3 (ipykernel)",
   "language": "python",
   "name": "python3"
  },
  "language_info": {
   "codemirror_mode": {
    "name": "ipython",
    "version": 3
   },
   "file_extension": ".py",
   "mimetype": "text/x-python",
   "name": "python",
   "nbconvert_exporter": "python",
   "pygments_lexer": "ipython3",
   "version": "3.9.4"
  }
 },
 "nbformat": 4,
 "nbformat_minor": 5
}
