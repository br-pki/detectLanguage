{
 "cells": [
  {
   "cell_type": "code",
   "execution_count": 1,
   "id": "a50d72a3-6ee6-42e1-8406-7d024e0d0fb0",
   "metadata": {},
   "outputs": [],
   "source": [
    "import pandas as pd\n",
    "\n",
    "import warnings\n",
    "warnings.filterwarnings('ignore')"
   ]
  },
  {
   "cell_type": "markdown",
   "id": "97d064cf-9a67-4ca8-bf05-9950d0d8fdb6",
   "metadata": {},
   "source": [
    "## Load data & resources"
   ]
  },
  {
   "cell_type": "code",
   "execution_count": 2,
   "id": "052b07cf-5ac0-411f-8bc2-809f7ad75a1d",
   "metadata": {},
   "outputs": [],
   "source": [
    "# # ISO 639 table for full language names\n",
    "# iso_639_3_names = pd.read_csv(\"data/iso-639-3_Name_Index.tab.txt\", delimiter=\"\\t\", index_col=0)\n",
    "# iso_639_3_names = iso_639_3_names[\"Print_Name\"].to_dict()\n",
    "# iso_639_3_names[\"cmn\"] = \"Chinese\"\n",
    "# # iso_639_3_names"
   ]
  },
  {
   "cell_type": "code",
   "execution_count": 3,
   "id": "f02f26a2-fe53-4600-b741-6361d1b31dfa",
   "metadata": {},
   "outputs": [],
   "source": [
    "# # sentences for evaluating predicted language\n",
    "# df = pd.read_csv(\"data/sentences.csv\", delimiter=\"\\t\", header=None, index_col=0, names=[\"Language\", \"Sentence\"])"
   ]
  },
  {
   "cell_type": "markdown",
   "id": "fc03b297-0dd5-4031-8226-3ccfa836867b",
   "metadata": {},
   "source": [
    "## Get counts of sentences by language"
   ]
  },
  {
   "cell_type": "code",
   "execution_count": 4,
   "id": "682c0c0b-a0ba-4074-85d9-704531d221bc",
   "metadata": {},
   "outputs": [],
   "source": [
    "# language_counts = df[\"Language\"].value_counts(normalize=False)\n",
    "# language_counts = language_counts.to_frame().reset_index()\n",
    "# language_counts.rename(columns={\"index\":\"ISO Name\", \"Language\": \"Count\"}, inplace=True)\n",
    "# language_counts[\"Full Name\"] = language_counts[\"ISO Name\"].map(iso_639_3_names)\n",
    "# language_counts = language_counts[[\"ISO Name\", \"Full Name\", \"Count\"]]"
   ]
  },
  {
   "cell_type": "markdown",
   "id": "1c7742df-7eaa-4eb6-8187-17b7ecea6aa8",
   "metadata": {},
   "source": [
    "## Identify languages with > 5,000 sentences"
   ]
  },
  {
   "cell_type": "code",
   "execution_count": 5,
   "id": "e19809ca-d577-42f6-afac-eac561323049",
   "metadata": {},
   "outputs": [],
   "source": [
    "# over_5k = language_counts[language_counts[\"Count\"]>5000]\n",
    "# over_5k_list = over_5k[\"ISO Name\"].tolist()\n",
    "# # over_5k_list # list of \"ISO Name\" str"
   ]
  },
  {
   "cell_type": "markdown",
   "id": "fece3f9f-a421-4da2-95c4-296bfb267001",
   "metadata": {},
   "source": [
    "## Check which common PKI languages are included in sentences"
   ]
  },
  {
   "cell_type": "code",
   "execution_count": 6,
   "id": "fac2787b-8d7f-446b-89fe-62f7b263bb0a",
   "metadata": {},
   "outputs": [],
   "source": [
    "# PKI_LANGUAGES = [\n",
    "#     \"English\",\n",
    "#     \"Chinese\",\n",
    "#     \"German\",\n",
    "#     \"Spanish\",\n",
    "#     \"French\",\n",
    "#     \"Italian\",\n",
    "#     \"Japanese\",\n",
    "#     \"Korean\",\n",
    "#     \"Portuguese\",\n",
    "#     \"Danish\",\n",
    "#     \"Dutch\", # no Dutch in sentences?\n",
    "#     \"Norwegian\", # no Norwegian in sentences?\n",
    "# ]\n",
    "\n",
    "# found_PKI_LANGUAGES = over_5k[over_5k[\"Full Name\"].isin(PKI_LANGUAGES)]\n",
    "# # found_PKI_LANGUAGES\n",
    "\n",
    "# set(PKI_LANGUAGES).difference(set(found_PKI_LANGUAGES[\"Full Name\"]))"
   ]
  },
  {
   "cell_type": "markdown",
   "id": "dba2f573-582f-45e7-97b6-da73c6d30f76",
   "metadata": {},
   "source": [
    "> sentences are missing Dutch & Norwegian."
   ]
  },
  {
   "cell_type": "markdown",
   "id": "3084ab38-14d0-4eaa-aace-b823021b50fe",
   "metadata": {},
   "source": [
    "## Limit to languages with over 5,000 sentences & that are common at PKI"
   ]
  },
  {
   "cell_type": "code",
   "execution_count": 7,
   "id": "cbd32cb1-c312-4eec-8317-42bb3d9e63ab",
   "metadata": {},
   "outputs": [],
   "source": [
    "# sentences_over_5k = df[df[\"Language\"].isin(over_5k_list)]\n",
    "# sentences_over_5k[\"Language Full Name\"] = sentences_over_5k[\"Language\"].map(iso_639_3_names)\n",
    "# sentences_over_5k = sentences_over_5k[sentences_over_5k[\"Language Full Name\"].isin(PKI_LANGUAGES)]\n",
    "# sentences_over_5k = sentences_over_5k[[\"Sentence\", \"Language\", \"Language Full Name\"]]"
   ]
  },
  {
   "cell_type": "markdown",
   "id": "54967ae9-ea9d-471d-a397-7f139794c300",
   "metadata": {},
   "source": [
    "## Create a random stratified sample of 10,000 sentences"
   ]
  },
  {
   "cell_type": "code",
   "execution_count": 8,
   "id": "9c2d08c6-e2ab-47a0-afb4-daf8b83558d1",
   "metadata": {},
   "outputs": [],
   "source": [
    "# max_sample_size = int(sentences_over_5k[\"Language Full Name\"].value_counts(normalize=False).min() / 1000) * 1000 # use the smallest language group to set uniform sample size across all languages\n",
    "# # max_sample_size"
   ]
  },
  {
   "cell_type": "code",
   "execution_count": 9,
   "id": "1fb3c8c7-8eb0-44b1-99c6-7d48ded22229",
   "metadata": {},
   "outputs": [],
   "source": [
    "# sample = sentences_over_5k.groupby(\"Language Full Name\", group_keys=False).apply(lambda x: x.sample(max_sample_size))"
   ]
  },
  {
   "cell_type": "code",
   "execution_count": 10,
   "id": "4ce4d764-fd31-4d92-a925-dd1e681eeee5",
   "metadata": {},
   "outputs": [],
   "source": [
    "from create_Tatoeba_train_test import get_language_mappings, get_sentence_word_char_len"
   ]
  },
  {
   "cell_type": "code",
   "execution_count": 11,
   "id": "7d928008-850b-4bbc-862c-77bc59b05279",
   "metadata": {},
   "outputs": [],
   "source": [
    "language_mappings = get_language_mappings(\"language_mappings.csv\")\n",
    "iso_639_3_English = language_mappings[[\"ISO 639-3\", \"English Name\"]].set_index(keys=\"ISO 639-3\")[\"English Name\"].to_dict()\n",
    "# iso_639_3_English"
   ]
  },
  {
   "cell_type": "markdown",
   "id": "c0724570-12d6-49df-9c07-34d9b8008e74",
   "metadata": {},
   "source": [
    "## Load sample train data set"
   ]
  },
  {
   "cell_type": "code",
   "execution_count": 12,
   "id": "fe032851-6103-4379-81d7-b62fa9e1aec9",
   "metadata": {},
   "outputs": [],
   "source": [
    "sample = pd.read_csv(\"output/Tatoeba_stratify_train_2021-7-29_1520.csv\")\n",
    "sample[\"Language_English_Name\"] = sample[\"Language\"].map(iso_639_3_English)\n",
    "sample[\"Sentence_len\"] = sample.apply(lambda row: get_sentence_word_char_len(row), axis=1)"
   ]
  },
  {
   "cell_type": "code",
   "execution_count": 13,
   "id": "c5c19830-29f8-4ec2-9731-f2e945c64a39",
   "metadata": {},
   "outputs": [],
   "source": [
    "bin_labels = [\"1\",\"2\",\"3\",\"4\",\"5\",\"6\",\"7\",\"8\",\"9\",\"10\",\"11 to 16\", \"17 to 27\", \"28 to 48\", \"49 to 99\"]\n",
    "\n",
    "sample[\"Sentence_len_bin\"] = pd.cut(\n",
    "    x=sample[\"Sentence_len\"],\n",
    "    bins=[0,1,2,3,4,5,6,7,8,9,10,16,27,48,99],\n",
    "    labels=bin_labels\n",
    ")"
   ]
  },
  {
   "cell_type": "code",
   "execution_count": 14,
   "id": "4569940a-5cc4-4d43-8159-f3e9531dca33",
   "metadata": {},
   "outputs": [
    {
     "data": {
      "text/html": [
       "<div>\n",
       "<style scoped>\n",
       "    .dataframe tbody tr th:only-of-type {\n",
       "        vertical-align: middle;\n",
       "    }\n",
       "\n",
       "    .dataframe tbody tr th {\n",
       "        vertical-align: top;\n",
       "    }\n",
       "\n",
       "    .dataframe thead th {\n",
       "        text-align: right;\n",
       "    }\n",
       "</style>\n",
       "<table border=\"1\" class=\"dataframe\">\n",
       "  <thead>\n",
       "    <tr style=\"text-align: right;\">\n",
       "      <th></th>\n",
       "      <th>Original Index</th>\n",
       "      <th>Sentence</th>\n",
       "      <th>Language</th>\n",
       "      <th>Language_English_Name</th>\n",
       "      <th>Sentence_len</th>\n",
       "      <th>Sentence_len_bin</th>\n",
       "    </tr>\n",
       "  </thead>\n",
       "  <tbody>\n",
       "    <tr>\n",
       "      <th>32919</th>\n",
       "      <td>8368313</td>\n",
       "      <td>톰한테 말해.</td>\n",
       "      <td>kor</td>\n",
       "      <td>Korean</td>\n",
       "      <td>5</td>\n",
       "      <td>5</td>\n",
       "    </tr>\n",
       "    <tr>\n",
       "      <th>12903</th>\n",
       "      <td>1296257</td>\n",
       "      <td>Han var ikke så træt, som han så ud til at være.</td>\n",
       "      <td>dan</td>\n",
       "      <td>Danish</td>\n",
       "      <td>12</td>\n",
       "      <td>11 to 16</td>\n",
       "    </tr>\n",
       "    <tr>\n",
       "      <th>24400</th>\n",
       "      <td>5174459</td>\n",
       "      <td>Har du lyst til at tage med mig ud at handle?</td>\n",
       "      <td>dan</td>\n",
       "      <td>Danish</td>\n",
       "      <td>11</td>\n",
       "      <td>11 to 16</td>\n",
       "    </tr>\n",
       "    <tr>\n",
       "      <th>30321</th>\n",
       "      <td>1372961</td>\n",
       "      <td>Je pense qu'il est temps pour moi de consulter...</td>\n",
       "      <td>fra</td>\n",
       "      <td>French</td>\n",
       "      <td>11</td>\n",
       "      <td>11 to 16</td>\n",
       "    </tr>\n",
       "    <tr>\n",
       "      <th>18435</th>\n",
       "      <td>4865831</td>\n",
       "      <td>Tom nem sequer olhou para o relatório que Mari...</td>\n",
       "      <td>por</td>\n",
       "      <td>Portuguese</td>\n",
       "      <td>11</td>\n",
       "      <td>11 to 16</td>\n",
       "    </tr>\n",
       "    <tr>\n",
       "      <th>32214</th>\n",
       "      <td>8363670</td>\n",
       "      <td>다음 날, 눈사람은 완전히 녹아버렸어.</td>\n",
       "      <td>kor</td>\n",
       "      <td>Korean</td>\n",
       "      <td>16</td>\n",
       "      <td>11 to 16</td>\n",
       "    </tr>\n",
       "    <tr>\n",
       "      <th>17410</th>\n",
       "      <td>527939</td>\n",
       "      <td>他整天都在埋頭埋腦地看小說，連飯也沒有吃。</td>\n",
       "      <td>cmn</td>\n",
       "      <td>Chinese</td>\n",
       "      <td>19</td>\n",
       "      <td>17 to 27</td>\n",
       "    </tr>\n",
       "    <tr>\n",
       "      <th>35972</th>\n",
       "      <td>7505057</td>\n",
       "      <td>I thought Tom would like to be the next one to...</td>\n",
       "      <td>eng</td>\n",
       "      <td>English</td>\n",
       "      <td>13</td>\n",
       "      <td>11 to 16</td>\n",
       "    </tr>\n",
       "    <tr>\n",
       "      <th>61102</th>\n",
       "      <td>6197277</td>\n",
       "      <td>Hvor er hagen ved det? \"Der er ingen. Det svær...</td>\n",
       "      <td>dan</td>\n",
       "      <td>Danish</td>\n",
       "      <td>11</td>\n",
       "      <td>11 to 16</td>\n",
       "    </tr>\n",
       "    <tr>\n",
       "      <th>56903</th>\n",
       "      <td>2487114</td>\n",
       "      <td>Eu não brigo com pessoas.</td>\n",
       "      <td>por</td>\n",
       "      <td>Portuguese</td>\n",
       "      <td>5</td>\n",
       "      <td>5</td>\n",
       "    </tr>\n",
       "  </tbody>\n",
       "</table>\n",
       "</div>"
      ],
      "text/plain": [
       "       Original Index                                           Sentence  \\\n",
       "32919         8368313                                            톰한테 말해.   \n",
       "12903         1296257   Han var ikke så træt, som han så ud til at være.   \n",
       "24400         5174459      Har du lyst til at tage med mig ud at handle?   \n",
       "30321         1372961  Je pense qu'il est temps pour moi de consulter...   \n",
       "18435         4865831  Tom nem sequer olhou para o relatório que Mari...   \n",
       "32214         8363670                              다음 날, 눈사람은 완전히 녹아버렸어.   \n",
       "17410          527939                              他整天都在埋頭埋腦地看小說，連飯也沒有吃。   \n",
       "35972         7505057  I thought Tom would like to be the next one to...   \n",
       "61102         6197277  Hvor er hagen ved det? \"Der er ingen. Det svær...   \n",
       "56903         2487114                          Eu não brigo com pessoas.   \n",
       "\n",
       "      Language Language_English_Name  Sentence_len Sentence_len_bin  \n",
       "32919      kor                Korean             5                5  \n",
       "12903      dan                Danish            12         11 to 16  \n",
       "24400      dan                Danish            11         11 to 16  \n",
       "30321      fra                French            11         11 to 16  \n",
       "18435      por            Portuguese            11         11 to 16  \n",
       "32214      kor                Korean            16         11 to 16  \n",
       "17410      cmn               Chinese            19         17 to 27  \n",
       "35972      eng               English            13         11 to 16  \n",
       "61102      dan                Danish            11         11 to 16  \n",
       "56903      por            Portuguese             5                5  "
      ]
     },
     "execution_count": 14,
     "metadata": {},
     "output_type": "execute_result"
    }
   ],
   "source": [
    "sample.sample(10)"
   ]
  },
  {
   "cell_type": "code",
   "execution_count": 15,
   "id": "07cd2397-32d7-43c6-89c4-79a6910b8e28",
   "metadata": {},
   "outputs": [
    {
     "data": {
      "text/plain": [
       "Dutch         9.09\n",
       "Spanish       9.09\n",
       "Portuguese    9.09\n",
       "Italian       9.09\n",
       "German        9.09\n",
       "Chinese       9.09\n",
       "English       9.09\n",
       "Korean        9.09\n",
       "Danish        9.09\n",
       "French        9.09\n",
       "Japanese      9.09\n",
       "Name: Language_English_Name, dtype: float64"
      ]
     },
     "execution_count": 15,
     "metadata": {},
     "output_type": "execute_result"
    }
   ],
   "source": [
    "round(sample[\"Language_English_Name\"].value_counts(normalize=True) * 100,2)"
   ]
  },
  {
   "cell_type": "markdown",
   "id": "b4bcc949-1ae2-4093-82a9-72e58f854297",
   "metadata": {},
   "source": [
    "# langid"
   ]
  },
  {
   "cell_type": "markdown",
   "id": "c043a4f0-c452-4655-bfe4-0edd91846423",
   "metadata": {},
   "source": [
    "#### Setup for langid"
   ]
  },
  {
   "cell_type": "code",
   "execution_count": 16,
   "id": "66d7b4c9-a3b1-40fe-8817-e764065284b4",
   "metadata": {},
   "outputs": [],
   "source": [
    "from langid.langid import LanguageIdentifier, model"
   ]
  },
  {
   "cell_type": "code",
   "execution_count": 17,
   "id": "64fa32d9-bf0d-47a4-a315-c7133d769704",
   "metadata": {},
   "outputs": [],
   "source": [
    "iso_639_3_iso_639_1 = language_mappings[[\"ISO 639-3\", \"ISO 639-1\"]].set_index(keys=\"ISO 639-3\")[\"ISO 639-1\"].to_dict()\n",
    "# iso_639_3_iso_639_1"
   ]
  },
  {
   "cell_type": "code",
   "execution_count": 18,
   "id": "e18cd086-c6ce-4e0c-9a48-8945a8e13952",
   "metadata": {},
   "outputs": [],
   "source": [
    "# find all languages to include in langid predictions\n",
    "set_languages = [iso_639_3_iso_639_1[i] for i in sample[\"Language\"].unique().tolist()]\n",
    "\n",
    "lang_identifier = LanguageIdentifier.from_modelstring(model, norm_probs=True)\n",
    "# lang_identifier.set_languages(set_languages)"
   ]
  },
  {
   "cell_type": "markdown",
   "id": "2b36970d-dc21-4f83-a2d5-2ae531e9e02e",
   "metadata": {},
   "source": [
    "> if we cannot limit all language prediction libraries then don't limit any (?)"
   ]
  },
  {
   "cell_type": "markdown",
   "id": "e7494894-8426-4544-b2e3-e6289365cd58",
   "metadata": {},
   "source": [
    "#### Generate langid predictions"
   ]
  },
  {
   "cell_type": "code",
   "execution_count": 19,
   "id": "c203b4a9-cf17-4dc3-9dbe-a26e7cd24c12",
   "metadata": {},
   "outputs": [
    {
     "name": "stdout",
     "output_type": "stream",
     "text": [
      "Wall time: 2min 45s\n"
     ]
    }
   ],
   "source": [
    "%%time\n",
    "# 14s, with limited languages\n",
    "# 2min, 45s, with no limits on languages\n",
    "\n",
    "sample[\"langid\"] = sample.apply(lambda row: list(lang_identifier.classify(row[\"Sentence\"])), axis=1)"
   ]
  },
  {
   "cell_type": "code",
   "execution_count": 20,
   "id": "fa81be89-577d-414c-a185-5fb079902908",
   "metadata": {},
   "outputs": [],
   "source": [
    "sample[\"langid_language\"], sample[\"langid_score\"] = sample[\"langid\"].str\n",
    "sample.drop(columns=[\"langid\"], inplace=True)"
   ]
  },
  {
   "cell_type": "code",
   "execution_count": 21,
   "id": "e21af4d8-d09c-44c0-b8a5-00b4d0408036",
   "metadata": {},
   "outputs": [],
   "source": [
    "# map Language to English Name & langid_language to English Name\n",
    "ISO_639_3 = language_mappings.set_index(\"ISO 639-3\")\n",
    "ISO_639_3 = ISO_639_3[\"English Name\"].to_dict()\n",
    "sample[\"Language_English_Name\"] = sample[\"Language\"].map(ISO_639_3)\n",
    "\n",
    "ISO_639_1 = language_mappings.set_index(\"ISO 639-1\")\n",
    "ISO_639_1 = ISO_639_1[\"English Name\"].to_dict()\n",
    "sample[\"langid_language_English_Name\"] = sample[\"langid_language\"].map(ISO_639_1)"
   ]
  },
  {
   "cell_type": "code",
   "execution_count": 31,
   "id": "6dd454f7-97e4-490f-a2e8-d42b1b9d567d",
   "metadata": {},
   "outputs": [
    {
     "data": {
      "text/plain": [
       "ja    9.48\n",
       "en    9.22\n",
       "fr    9.14\n",
       "ko    9.09\n",
       "de    9.06\n",
       "it    8.96\n",
       "nl    8.91\n",
       "es    8.72\n",
       "zh    8.70\n",
       "pt    8.48\n",
       "da    6.23\n",
       "no    1.76\n",
       "nb    0.90\n",
       "gl    0.49\n",
       "ca    0.17\n",
       "nn    0.09\n",
       "af    0.05\n",
       "sv    0.05\n",
       "eo    0.04\n",
       "br    0.04\n",
       "hu    0.03\n",
       "ro    0.03\n",
       "ku    0.02\n",
       "fi    0.02\n",
       "sl    0.02\n",
       "oc    0.02\n",
       "an    0.02\n",
       "et    0.02\n",
       "eu    0.02\n",
       "sk    0.02\n",
       "cs    0.02\n",
       "lt    0.01\n",
       "hr    0.01\n",
       "lb    0.01\n",
       "ga    0.01\n",
       "id    0.01\n",
       "wa    0.01\n",
       "mg    0.01\n",
       "jv    0.01\n",
       "tr    0.01\n",
       "ht    0.01\n",
       "pl    0.01\n",
       "mt    0.01\n",
       "bs    0.01\n",
       "is    0.01\n",
       "cy    0.00\n",
       "lv    0.00\n",
       "tl    0.00\n",
       "sq    0.00\n",
       "la    0.00\n",
       "xh    0.00\n",
       "qu    0.00\n",
       "se    0.00\n",
       "fo    0.00\n",
       "ky    0.00\n",
       "Name: langid_language, dtype: float64"
      ]
     },
     "execution_count": 31,
     "metadata": {},
     "output_type": "execute_result"
    }
   ],
   "source": [
    "# round(sample[\"langid_language_English_Name\"].value_counts(normalize=True, dropna=False) * 100,2)\n",
    "round(sample[\"langid_language\"].value_counts(normalize=True, dropna=False) * 100,2)"
   ]
  },
  {
   "cell_type": "markdown",
   "id": "fcae5725-d9d8-46df-853b-1d8d5890a9c4",
   "metadata": {},
   "source": [
    "# langdetect"
   ]
  },
  {
   "cell_type": "code",
   "execution_count": 23,
   "id": "1c07cf0b-5edc-4a70-8ec5-cb186751b73e",
   "metadata": {},
   "outputs": [],
   "source": [
    "from langdetect import DetectorFactory\n",
    "DetectorFactory.seed = 7"
   ]
  },
  {
   "cell_type": "code",
   "execution_count": 24,
   "id": "6f260389-5b6b-4283-bf0b-50a5e464557b",
   "metadata": {},
   "outputs": [],
   "source": [
    "from langdetect import detect_langs"
   ]
  },
  {
   "cell_type": "code",
   "execution_count": 25,
   "id": "ea2be769-e42a-4c80-9de4-3b17a9e8e602",
   "metadata": {},
   "outputs": [
    {
     "name": "stdout",
     "output_type": "stream",
     "text": [
      "Wall time: 3min 22s\n"
     ]
    }
   ],
   "source": [
    "%%time\n",
    "# 3min 34s\n",
    "\n",
    "sample[\"langdetect\"] = sample.apply(lambda row: detect_langs(row[\"Sentence\"])[0], axis=1)"
   ]
  },
  {
   "cell_type": "code",
   "execution_count": 26,
   "id": "e31301f0-bcd4-45b6-81b9-e6bf8b5e9c32",
   "metadata": {},
   "outputs": [],
   "source": [
    "sample[\"langdetect_language\"] = sample.apply(lambda row: row[\"langdetect\"].lang, axis=1)\n",
    "sample[\"langdetect_score\"] = sample.apply(lambda row: row[\"langdetect\"].prob, axis=1)\n",
    "sample.drop(columns=[\"langdetect\"], inplace=True)"
   ]
  },
  {
   "cell_type": "code",
   "execution_count": 27,
   "id": "0073564e-76b7-448e-a8aa-9f88ca7218e2",
   "metadata": {},
   "outputs": [
    {
     "data": {
      "text/html": [
       "<div>\n",
       "<style scoped>\n",
       "    .dataframe tbody tr th:only-of-type {\n",
       "        vertical-align: middle;\n",
       "    }\n",
       "\n",
       "    .dataframe tbody tr th {\n",
       "        vertical-align: top;\n",
       "    }\n",
       "\n",
       "    .dataframe thead th {\n",
       "        text-align: right;\n",
       "    }\n",
       "</style>\n",
       "<table border=\"1\" class=\"dataframe\">\n",
       "  <thead>\n",
       "    <tr style=\"text-align: right;\">\n",
       "      <th></th>\n",
       "      <th>Original Index</th>\n",
       "      <th>Sentence</th>\n",
       "      <th>Language</th>\n",
       "      <th>Language_English_Name</th>\n",
       "      <th>Sentence_len</th>\n",
       "      <th>Sentence_len_bin</th>\n",
       "      <th>langid_language</th>\n",
       "      <th>langid_score</th>\n",
       "      <th>langid_language_English_Name</th>\n",
       "      <th>langdetect_language</th>\n",
       "      <th>langdetect_score</th>\n",
       "    </tr>\n",
       "  </thead>\n",
       "  <tbody>\n",
       "    <tr>\n",
       "      <th>12419</th>\n",
       "      <td>7093267</td>\n",
       "      <td>É a primeira vez que visito o Rio de Janeiro.</td>\n",
       "      <td>por</td>\n",
       "      <td>Portuguese</td>\n",
       "      <td>10</td>\n",
       "      <td>10</td>\n",
       "      <td>pt</td>\n",
       "      <td>0.948547</td>\n",
       "      <td>Portuguese</td>\n",
       "      <td>pt</td>\n",
       "      <td>0.999997</td>\n",
       "    </tr>\n",
       "    <tr>\n",
       "      <th>39184</th>\n",
       "      <td>3210186</td>\n",
       "      <td>なんでお前ここにいんの？</td>\n",
       "      <td>jpn</td>\n",
       "      <td>Japanese</td>\n",
       "      <td>11</td>\n",
       "      <td>11 to 16</td>\n",
       "      <td>ja</td>\n",
       "      <td>1.000000</td>\n",
       "      <td>Japanese</td>\n",
       "      <td>ja</td>\n",
       "      <td>1.000000</td>\n",
       "    </tr>\n",
       "    <tr>\n",
       "      <th>34960</th>\n",
       "      <td>5861714</td>\n",
       "      <td>In der Wohnung oben steigt gerade eine Party.</td>\n",
       "      <td>deu</td>\n",
       "      <td>German</td>\n",
       "      <td>8</td>\n",
       "      <td>8</td>\n",
       "      <td>de</td>\n",
       "      <td>1.000000</td>\n",
       "      <td>German</td>\n",
       "      <td>de</td>\n",
       "      <td>0.999996</td>\n",
       "    </tr>\n",
       "    <tr>\n",
       "      <th>31715</th>\n",
       "      <td>2006393</td>\n",
       "      <td>I wish I had a tackle box as nice as yours.</td>\n",
       "      <td>eng</td>\n",
       "      <td>English</td>\n",
       "      <td>11</td>\n",
       "      <td>11 to 16</td>\n",
       "      <td>en</td>\n",
       "      <td>0.999562</td>\n",
       "      <td>English</td>\n",
       "      <td>en</td>\n",
       "      <td>0.999997</td>\n",
       "    </tr>\n",
       "    <tr>\n",
       "      <th>43733</th>\n",
       "      <td>1731968</td>\n",
       "      <td>我真的很想知道他為甚麼會做出這種事來。</td>\n",
       "      <td>cmn</td>\n",
       "      <td>Chinese</td>\n",
       "      <td>18</td>\n",
       "      <td>17 to 27</td>\n",
       "      <td>zh</td>\n",
       "      <td>1.000000</td>\n",
       "      <td>Chinese</td>\n",
       "      <td>zh-tw</td>\n",
       "      <td>0.571429</td>\n",
       "    </tr>\n",
       "    <tr>\n",
       "      <th>33994</th>\n",
       "      <td>10156330</td>\n",
       "      <td>Das rassistische und kolonialistische System d...</td>\n",
       "      <td>deu</td>\n",
       "      <td>German</td>\n",
       "      <td>16</td>\n",
       "      <td>11 to 16</td>\n",
       "      <td>de</td>\n",
       "      <td>1.000000</td>\n",
       "      <td>German</td>\n",
       "      <td>de</td>\n",
       "      <td>0.999997</td>\n",
       "    </tr>\n",
       "    <tr>\n",
       "      <th>28740</th>\n",
       "      <td>5155527</td>\n",
       "      <td>Mindst en gang om ugen vasker han sin bil.</td>\n",
       "      <td>dan</td>\n",
       "      <td>Danish</td>\n",
       "      <td>9</td>\n",
       "      <td>9</td>\n",
       "      <td>nl</td>\n",
       "      <td>0.834431</td>\n",
       "      <td>Dutch</td>\n",
       "      <td>da</td>\n",
       "      <td>0.999992</td>\n",
       "    </tr>\n",
       "    <tr>\n",
       "      <th>24391</th>\n",
       "      <td>211844</td>\n",
       "      <td>その会社の収益性が改善した。</td>\n",
       "      <td>jpn</td>\n",
       "      <td>Japanese</td>\n",
       "      <td>13</td>\n",
       "      <td>11 to 16</td>\n",
       "      <td>ja</td>\n",
       "      <td>1.000000</td>\n",
       "      <td>Japanese</td>\n",
       "      <td>ja</td>\n",
       "      <td>1.000000</td>\n",
       "    </tr>\n",
       "    <tr>\n",
       "      <th>46730</th>\n",
       "      <td>4749595</td>\n",
       "      <td>메리가 피를 흘리고 있어.</td>\n",
       "      <td>kor</td>\n",
       "      <td>Korean</td>\n",
       "      <td>10</td>\n",
       "      <td>10</td>\n",
       "      <td>ko</td>\n",
       "      <td>1.000000</td>\n",
       "      <td>Korean</td>\n",
       "      <td>ko</td>\n",
       "      <td>0.999999</td>\n",
       "    </tr>\n",
       "    <tr>\n",
       "      <th>1327</th>\n",
       "      <td>8622555</td>\n",
       "      <td>Hylderne med toiletpapir var fuldstændig tomme...</td>\n",
       "      <td>dan</td>\n",
       "      <td>Danish</td>\n",
       "      <td>17</td>\n",
       "      <td>17 to 27</td>\n",
       "      <td>da</td>\n",
       "      <td>0.992456</td>\n",
       "      <td>Danish</td>\n",
       "      <td>da</td>\n",
       "      <td>0.999994</td>\n",
       "    </tr>\n",
       "  </tbody>\n",
       "</table>\n",
       "</div>"
      ],
      "text/plain": [
       "       Original Index                                           Sentence  \\\n",
       "12419         7093267      É a primeira vez que visito o Rio de Janeiro.   \n",
       "39184         3210186                                       なんでお前ここにいんの？   \n",
       "34960         5861714      In der Wohnung oben steigt gerade eine Party.   \n",
       "31715         2006393        I wish I had a tackle box as nice as yours.   \n",
       "43733         1731968                                我真的很想知道他為甚麼會做出這種事來。   \n",
       "33994        10156330  Das rassistische und kolonialistische System d...   \n",
       "28740         5155527         Mindst en gang om ugen vasker han sin bil.   \n",
       "24391          211844                                     その会社の収益性が改善した。   \n",
       "46730         4749595                                     메리가 피를 흘리고 있어.   \n",
       "1327          8622555  Hylderne med toiletpapir var fuldstændig tomme...   \n",
       "\n",
       "      Language Language_English_Name  Sentence_len Sentence_len_bin  \\\n",
       "12419      por            Portuguese            10               10   \n",
       "39184      jpn              Japanese            11         11 to 16   \n",
       "34960      deu                German             8                8   \n",
       "31715      eng               English            11         11 to 16   \n",
       "43733      cmn               Chinese            18         17 to 27   \n",
       "33994      deu                German            16         11 to 16   \n",
       "28740      dan                Danish             9                9   \n",
       "24391      jpn              Japanese            13         11 to 16   \n",
       "46730      kor                Korean            10               10   \n",
       "1327       dan                Danish            17         17 to 27   \n",
       "\n",
       "      langid_language  langid_score langid_language_English_Name  \\\n",
       "12419              pt      0.948547                   Portuguese   \n",
       "39184              ja      1.000000                     Japanese   \n",
       "34960              de      1.000000                       German   \n",
       "31715              en      0.999562                      English   \n",
       "43733              zh      1.000000                      Chinese   \n",
       "33994              de      1.000000                       German   \n",
       "28740              nl      0.834431                        Dutch   \n",
       "24391              ja      1.000000                     Japanese   \n",
       "46730              ko      1.000000                       Korean   \n",
       "1327               da      0.992456                       Danish   \n",
       "\n",
       "      langdetect_language  langdetect_score  \n",
       "12419                  pt          0.999997  \n",
       "39184                  ja          1.000000  \n",
       "34960                  de          0.999996  \n",
       "31715                  en          0.999997  \n",
       "43733               zh-tw          0.571429  \n",
       "33994                  de          0.999997  \n",
       "28740                  da          0.999992  \n",
       "24391                  ja          1.000000  \n",
       "46730                  ko          0.999999  \n",
       "1327                   da          0.999994  "
      ]
     },
     "execution_count": 27,
     "metadata": {},
     "output_type": "execute_result"
    }
   ],
   "source": [
    "sample.sample(10)"
   ]
  },
  {
   "cell_type": "code",
   "execution_count": 28,
   "id": "66c939e5-b865-45d6-8a8e-56fcaec384a1",
   "metadata": {},
   "outputs": [
    {
     "ename": "Exception",
     "evalue": "continue here: map langdetect_language to an English name",
     "output_type": "error",
     "traceback": [
      "\u001b[1;31m---------------------------------------------------------------------------\u001b[0m",
      "\u001b[1;31mException\u001b[0m                                 Traceback (most recent call last)",
      "\u001b[1;32mC:\\Users\\ROMASB~1\\AppData\\Local\\Temp/ipykernel_20720/2686626642.py\u001b[0m in \u001b[0;36m<module>\u001b[1;34m\u001b[0m\n\u001b[1;32m----> 1\u001b[1;33m \u001b[1;32mraise\u001b[0m \u001b[0mException\u001b[0m\u001b[1;33m(\u001b[0m\u001b[1;34m\"continue here: map langdetect_language to an English name\"\u001b[0m\u001b[1;33m)\u001b[0m\u001b[1;33m\u001b[0m\u001b[1;33m\u001b[0m\u001b[0m\n\u001b[0m",
      "\u001b[1;31mException\u001b[0m: continue here: map langdetect_language to an English name"
     ]
    }
   ],
   "source": [
    "raise Exception(\"continue here: map langdetect_language to an English name\")"
   ]
  },
  {
   "cell_type": "code",
   "execution_count": 29,
   "id": "3950862f-5e36-4620-9b8b-8392294027cf",
   "metadata": {},
   "outputs": [
    {
     "data": {
      "text/plain": [
       "ko       11.78\n",
       "fr        9.12\n",
       "pt        9.07\n",
       "de        9.04\n",
       "ja        9.02\n",
       "en        8.96\n",
       "it        8.93\n",
       "es        8.59\n",
       "nl        8.31\n",
       "da        7.45\n",
       "zh-cn     5.06\n",
       "no        1.60\n",
       "zh-tw     1.30\n",
       "af        0.84\n",
       "ca        0.36\n",
       "ro        0.10\n",
       "sv        0.08\n",
       "tl        0.04\n",
       "cy        0.04\n",
       "id        0.04\n",
       "et        0.04\n",
       "sl        0.03\n",
       "sk        0.03\n",
       "so        0.02\n",
       "lt        0.02\n",
       "hu        0.02\n",
       "fi        0.02\n",
       "hr        0.02\n",
       "sw        0.01\n",
       "vi        0.01\n",
       "pl        0.01\n",
       "tr        0.01\n",
       "cs        0.00\n",
       "sq        0.00\n",
       "lv        0.00\n",
       "Name: langdetect_language, dtype: float64"
      ]
     },
     "execution_count": 29,
     "metadata": {},
     "output_type": "execute_result"
    }
   ],
   "source": [
    "round(sample[\"langdetect_language\"].value_counts(normalize=True, dropna=False) * 100,2)"
   ]
  },
  {
   "cell_type": "markdown",
   "id": "3ef3f61f-2cb4-4c94-9679-a6991c1f631a",
   "metadata": {},
   "source": [
    "# textblob"
   ]
  },
  {
   "cell_type": "code",
   "execution_count": null,
   "id": "278cc2aa-ad67-40f0-913c-ad6630d3b2fc",
   "metadata": {},
   "outputs": [],
   "source": [
    "raise Exception(\"pause here\")"
   ]
  },
  {
   "cell_type": "markdown",
   "id": "c4c9c128-6d68-4ea9-9d88-e2d9b8fba88f",
   "metadata": {},
   "source": [
    "## Evaluate overall results"
   ]
  },
  {
   "cell_type": "code",
   "execution_count": null,
   "id": "95538b7b-33d8-435d-961b-e791223e205e",
   "metadata": {},
   "outputs": [],
   "source": [
    "pd.crosstab(sample[\"Language_English_Name\"], sample[\"langid_language_English_Name\"])"
   ]
  },
  {
   "cell_type": "code",
   "execution_count": null,
   "id": "5afd1784-3aba-4a0e-8f52-1394dec0e59d",
   "metadata": {},
   "outputs": [],
   "source": [
    "# micro-F1 for langid & others"
   ]
  },
  {
   "cell_type": "code",
   "execution_count": null,
   "id": "eb98cac5-502c-437f-a6df-ac5743e68469",
   "metadata": {},
   "outputs": [],
   "source": [
    "from sklearn.metrics import classification_report"
   ]
  },
  {
   "cell_type": "code",
   "execution_count": null,
   "id": "e0509ee6-06c3-47b5-bcbe-d34c5e95e05a",
   "metadata": {},
   "outputs": [],
   "source": [
    "# labels = sample[\"Language_English_Name\"].unique().tolist()\n",
    "# # labels"
   ]
  },
  {
   "cell_type": "code",
   "execution_count": null,
   "id": "a59b24bf-38ab-490d-850e-f5f41ff9af2c",
   "metadata": {},
   "outputs": [],
   "source": [
    "# print(classification_report(sample[\"Language_English_Name\"], sample[\"langid_language_English_Name\"], target_names=labels))"
   ]
  },
  {
   "cell_type": "code",
   "execution_count": null,
   "id": "8f6df35f-3b37-4d96-b8db-ea2a1a9faa64",
   "metadata": {},
   "outputs": [],
   "source": [
    "import matplotlib.pyplot as plt\n",
    "import numpy as np\n",
    "import itertools"
   ]
  },
  {
   "cell_type": "code",
   "execution_count": null,
   "id": "15e2fe22-c051-46a3-a710-83c6a0ad0b53",
   "metadata": {},
   "outputs": [],
   "source": [
    "def plot_confusion_matrix(cm,\n",
    "                          target_names,\n",
    "                          title='Confusion matrix',\n",
    "                          cmap=None,\n",
    "                          normalize=True):\n",
    "    \"\"\"\n",
    "    given a sklearn confusion matrix (cm), make a nice plot\n",
    "\n",
    "    Arguments\n",
    "    ---------\n",
    "    cm:           confusion matrix from sklearn.metrics.confusion_matrix\n",
    "\n",
    "    target_names: given classification classes such as [0, 1, 2]\n",
    "                  the class names, for example: ['high', 'medium', 'low']\n",
    "\n",
    "    title:        the text to display at the top of the matrix\n",
    "\n",
    "    cmap:         the gradient of the values displayed from matplotlib.pyplot.cm\n",
    "                  see http://matplotlib.org/examples/color/colormaps_reference.html\n",
    "                  plt.get_cmap('jet') or plt.cm.Blues\n",
    "\n",
    "    normalize:    If False, plot the raw numbers\n",
    "                  If True, plot the proportions\n",
    "\n",
    "    Usage\n",
    "    -----\n",
    "    plot_confusion_matrix(cm           = cm,                  # confusion matrix created by\n",
    "                                                              # sklearn.metrics.confusion_matrix\n",
    "                          normalize    = True,                # show proportions\n",
    "                          target_names = y_labels_vals,       # list of names of the classes\n",
    "                          title        = best_estimator_name) # title of graph\n",
    "\n",
    "    Citiation\n",
    "    ---------\n",
    "    http://scikit-learn.org/stable/auto_examples/model_selection/plot_confusion_matrix.html\n",
    "\n",
    "    \"\"\"\n",
    "    \n",
    "    accuracy = np.trace(cm) / np.sum(cm).astype('float')\n",
    "    misclass = 1 - accuracy\n",
    "\n",
    "    if cmap is None:\n",
    "        cmap = plt.get_cmap('Purples')\n",
    "\n",
    "    plt.figure(figsize=(20, 10))\n",
    "    plt.imshow(cm, interpolation='nearest', cmap=cmap)\n",
    "    plt.title(title)\n",
    "    plt.colorbar()\n",
    "\n",
    "    if target_names is not None:\n",
    "        tick_marks = np.arange(len(target_names))\n",
    "        plt.xticks(tick_marks, target_names, rotation=90)\n",
    "        plt.yticks(tick_marks, target_names)\n",
    "\n",
    "    if normalize:\n",
    "        cm = cm.astype('float') / cm.sum(axis=1)[:, np.newaxis]\n",
    "\n",
    "\n",
    "    thresh = cm.max() / 1.5 if normalize else cm.max() / 2\n",
    "    for i, j in itertools.product(range(cm.shape[0]), range(cm.shape[1])):\n",
    "        if normalize:\n",
    "            plt.text(j, i, \"{:0.4f}\".format(cm[i, j]),\n",
    "                     horizontalalignment=\"center\",\n",
    "                     color=\"white\" if cm[i, j] > thresh else \"black\")\n",
    "        else:\n",
    "            plt.text(j, i, \"{:,}\".format(cm[i, j]),\n",
    "                     horizontalalignment=\"center\",\n",
    "                     color=\"white\" if cm[i, j] > thresh else \"black\")\n",
    "\n",
    "\n",
    "    plt.tight_layout()\n",
    "    plt.ylabel('True label')\n",
    "    plt.xlabel('Predicted label')\n",
    "    plt.show()"
   ]
  },
  {
   "cell_type": "code",
   "execution_count": null,
   "id": "8a098a10-8c17-409c-86a0-9849be4b9019",
   "metadata": {},
   "outputs": [],
   "source": [
    "from sklearn.metrics import confusion_matrix"
   ]
  },
  {
   "cell_type": "code",
   "execution_count": null,
   "id": "403bf4b8-ee5a-48d2-ba05-8bb7f2589531",
   "metadata": {},
   "outputs": [],
   "source": [
    "# cm = confusion_matrix(sample[\"Language_English_Name\"], sample[\"langid_language_English_Name\"], labels)\n",
    "# plot_confusion_matrix(cm=cm, target_names=labels, normalize=False)"
   ]
  },
  {
   "cell_type": "markdown",
   "id": "e72259ae-ff7c-47d2-9cf5-a18b251dba4e",
   "metadata": {},
   "source": [
    "## Evaluate results as function of sentence length"
   ]
  },
  {
   "cell_type": "code",
   "execution_count": null,
   "id": "b256ee49-7f7e-431a-8844-8ab2cbb79962",
   "metadata": {},
   "outputs": [],
   "source": [
    "from sklearn.metrics import f1_score"
   ]
  },
  {
   "cell_type": "code",
   "execution_count": null,
   "id": "e6a59939-a855-4b37-a067-e7e22e75b491",
   "metadata": {},
   "outputs": [],
   "source": [
    "results = []\n",
    "for this_bin in bin_labels:\n",
    "    print(this_bin)\n",
    "    \n",
    "#     for i in range(0,100):        \n",
    "#         temp_sample = sample[sample[\"bin\"]==this_bin]\n",
    "#         # find max sample size\n",
    "#         max_sample_size = temp_sample[\"Language Full Name\"].value_counts(normalize=False).min()\n",
    "#         this_sample = temp_sample.groupby(\"Language Full Name\", group_keys=False).apply(lambda x: x.sample(max_sample_size))\n",
    "\n",
    "#         this_sample[\"langid\"] = this_sample.apply(lambda row: list(lang_identifier.classify(row[\"Sentence\"])), axis=1)\n",
    "#         this_sample[\"langid_language\"], this_sample[\"langid_score\"] = this_sample[\"langid\"].str\n",
    "#         this_sample.drop(columns=[\"langid\"], inplace=True)\n",
    "#         this_sample[\"langid_language Full Name\"] = this_sample[\"langid_language\"].map(iso_639_1_names)\n",
    "\n",
    "#         these_labels = this_sample[\"Language Full Name\"].unique().tolist()\n",
    "\n",
    "#         for lang in this_sample[\"langid_language Full Name\"].unique():\n",
    "#             these_results = this_sample[this_sample[\"langid_language Full Name\"]==lang]\n",
    "\n",
    "#             this_f1 = f1_score(these_results[\"Language Full Name\"], these_results[\"langid_language Full Name\"], labels=these_labels, average=\"weighted\")\n",
    "#             result = (this_bin, lang, round(this_f1,2))\n",
    "#             results.append(result)"
   ]
  },
  {
   "cell_type": "markdown",
   "id": "9f6fa9a6-0c51-4888-a701-4ff2e00ef046",
   "metadata": {},
   "source": [
    "### Plot results"
   ]
  },
  {
   "cell_type": "code",
   "execution_count": null,
   "id": "a81ac78a-d013-40a5-8d38-73a74e185960",
   "metadata": {},
   "outputs": [],
   "source": [
    "import seaborn as sns"
   ]
  },
  {
   "cell_type": "code",
   "execution_count": null,
   "id": "b7770cd8-031f-446d-83a7-3d50dd2d1426",
   "metadata": {},
   "outputs": [],
   "source": [
    "# TODO: address inconsistent sample sizes (?)"
   ]
  },
  {
   "cell_type": "code",
   "execution_count": null,
   "id": "5781bd65-b477-4ea5-978f-449b05bd64e0",
   "metadata": {},
   "outputs": [],
   "source": [
    "results = pd.DataFrame(data=results, columns=[\"Bin\", \"Language\", \"F1\"])\n",
    "results_pivot = results.pivot_table(values=\"F1\", index=\"Language\", columns=\"Bin\")\n",
    "results_pivot = results_pivot[bin_labels]\n",
    "results_pivot.loc[\"Average\"] = results_pivot.mean()"
   ]
  },
  {
   "cell_type": "code",
   "execution_count": null,
   "id": "5cb953ec-ecea-4bc5-b913-97dc40bf5525",
   "metadata": {},
   "outputs": [],
   "source": [
    "# create custom colormap for consistent colors\n",
    "language_cmap = {}\n",
    "language_cmap[\"Average\"] = (0.8901960784313725, 0.10196078431372549, 0.10980392156862745) # red-orange\n",
    "\n",
    "language_cmap[\"Chinese\"] = (0.5545098039215688, 0.7564167627835449, 0.8683121876201461) # blue\n",
    "language_cmap[\"Japanese\"] = (0.21568627450980393, 0.5294117647058824, 0.7542483660130719) # blue\n",
    "language_cmap[\"Korean\"] = (0.06251441753171857, 0.35750865051903113, 0.6429065743944637) # blue\n",
    "\n",
    "language_cmap[\"French\"] = (0.5739331026528259, 0.8241753171856978, 0.5606151480199923) # green\n",
    "language_cmap[\"Italian\"] = (0.21568627450980393, 0.6287581699346405, 0.3333333333333333) # green\n",
    "language_cmap[\"Spanish\"] = (0.04359861591695502, 0.4648212226066897, 0.20369088811995384) # green\n",
    "language_cmap[\"Portuguese\"] = (0.7792233756247597, 0.9132333717800846, 0.7518031526336024) # green\n",
    "\n",
    "language_cmap[\"English\"] = (0.698961937716263, 0.6965013456362938, 0.8372164552095348) # purple\n",
    "language_cmap[\"Danish\"] = (0.47320261437908495, 0.43267973856209146, 0.6993464052287581) # purple\n",
    "language_cmap[\"German\"] = (0.3568166089965398, 0.20525951557093425, 0.5856978085351787) # purple\n",
    "\n",
    "# create custom dash dict for consistent dashes\n",
    "language_dashes = {}\n",
    "language_dashes[\"Average\"] = (1, 1)\n",
    "\n",
    "language_dashes[\"Chinese\"] = (2, 1)\n",
    "language_dashes[\"Japanese\"] = (4, 3)\n",
    "language_dashes[\"Korean\"] = (6, 6)\n",
    "\n",
    "language_dashes[\"French\"] = (2, 1)\n",
    "language_dashes[\"Italian\"] = (4, 3)\n",
    "language_dashes[\"Spanish\"] = (6, 6)\n",
    "language_dashes[\"Portuguese\"] = (8, 12)\n",
    "\n",
    "language_dashes[\"English\"] = (2, 1)\n",
    "language_dashes[\"Danish\"] = (4, 3)\n",
    "language_dashes[\"German\"] = (6, 6)"
   ]
  },
  {
   "cell_type": "code",
   "execution_count": null,
   "id": "6e36c93d-da6c-4014-b90d-7a6ff4b2ee7e",
   "metadata": {},
   "outputs": [],
   "source": [
    "# ax = results_pivot.T.plot(figsize=(20,10), title=\"Average F1 Score By Sentence Character Length\", ylabel=\"F1 Score\", xlabel=\"Sentence Character Length\", ylim=(0.0,1.1));\n",
    "# ax.axhline(y=0.8, linestyle=\"--\", color=\"gray\", alpha=0.3)\n",
    "# ax.set_xticks(range(len(bin_labels)));\n",
    "# ax.set_xticklabels(bin_labels);\n",
    "plt.figure(figsize=(30,10))\n",
    "plt.title(\"Average F1 Score By Sentence Length\")\n",
    "plt.xlabel(\"Sentence Length\")\n",
    "plt.ylabel(\"F1 Score\")\n",
    "plt.ylim(0.0, 1.1)\n",
    "plt.axhline(y=0.8, linestyle=\"--\", color=\"gray\", alpha=0.3);\n",
    "sns.lineplot(data=results_pivot.T, palette=language_cmap, dashes=language_dashes);\n",
    "plt.legend(loc=\"lower right\");"
   ]
  },
  {
   "cell_type": "code",
   "execution_count": null,
   "id": "d0d4ad35-e97b-4fb4-9c43-2ae075585e81",
   "metadata": {},
   "outputs": [],
   "source": [
    "# ax = results_pivot.loc[\"Average\"].T.plot(figsize=(20,10), title=\"Average F1 Score By Sentence Character Length\", ylabel=\"F1 Score\", xlabel=\"Sentence Character Length\", ylim=(0.0,1.1));\n",
    "# ax.axhline(y=0.8, linestyle=\"--\", color=\"gray\", alpha=0.3)\n",
    "# ax.set_xticks(range(len(bin_labels)));\n",
    "# ax.set_xticklabels(bin_labels);\n",
    "plt.figure(figsize=(30,10))\n",
    "plt.title(\"Average F1 Score By Sentence Length\")\n",
    "plt.xlabel(\"Sentence Length\")\n",
    "plt.ylabel(\"F1 Score\")\n",
    "plt.ylim(0.0, 1.1)\n",
    "plt.axhline(y=0.8, linestyle=\"--\", color=\"gray\", alpha=0.3);\n",
    "sns.lineplot(data=results_pivot.loc[\"Average\"].T, color=language_cmap[\"Average\"], linestyle=\"dotted\");\n",
    "# plt.legend(loc=\"lower right\");"
   ]
  },
  {
   "cell_type": "code",
   "execution_count": null,
   "id": "dc8d2ea1-f291-4e2f-9a10-8560fbaa9f6f",
   "metadata": {},
   "outputs": [],
   "source": [
    "THESE_LANGUAGES = [\"Chinese\", \"Japanese\", \"Korean\"]\n",
    "# ax = results_pivot.loc[THESE_LANGUAGES+[\"Average\"]].T.plot(figsize=(20,10), title=\"Average F1 Score By Sentence Character Length\", ylabel=\"F1 Score\", xlabel=\"Sentence Character Length\", ylim=(0.0,1.1));\n",
    "# ax.axhline(y=0.8, linestyle=\"--\", color=\"gray\", alpha=0.3)\n",
    "# ax.set_xticks(range(len(bin_labels)));\n",
    "# ax.set_xticklabels(bin_labels);\n",
    "plt.figure(figsize=(30,10))\n",
    "plt.title(\"Average F1 Score By Sentence Length\")\n",
    "plt.xlabel(\"Sentence Length\")\n",
    "plt.ylabel(\"F1 Score\")\n",
    "plt.ylim(0.0, 1.1)\n",
    "plt.axhline(y=0.8, linestyle=\"--\", color=\"gray\", alpha=0.3);\n",
    "sns.lineplot(data=results_pivot.loc[THESE_LANGUAGES+[\"Average\"]].T, palette=language_cmap, dashes=language_dashes);\n",
    "plt.legend(loc=\"lower right\");"
   ]
  },
  {
   "cell_type": "code",
   "execution_count": null,
   "id": "6ea5fa99-6382-41cb-9016-52d92695f782",
   "metadata": {},
   "outputs": [],
   "source": [
    "THESE_LANGUAGES = ['Danish', 'English', 'French', 'German', 'Italian', 'Portuguese', 'Spanish']\n",
    "# ax = results_pivot.loc[THESE_LANGUAGES+[\"Average\"]].T.plot(figsize=(20,10), title=\"Average F1 Score By Sentence Character Length\", ylabel=\"F1 Score\", xlabel=\"Sentence Character Length\", ylim=(0.0,1.1));\n",
    "# ax.axhline(y=0.8, linestyle=\"--\", color=\"gray\", alpha=0.3)\n",
    "# ax.set_xticks(range(len(bin_labels)));\n",
    "# ax.set_xticklabels(bin_labels);\n",
    "plt.figure(figsize=(30,10))\n",
    "plt.title(\"Average F1 Score By Sentence Length\")\n",
    "plt.xlabel(\"Sentence Length\")\n",
    "plt.ylabel(\"F1 Score\")\n",
    "plt.ylim(0.0, 1.1)\n",
    "plt.axhline(y=0.8, linestyle=\"--\", color=\"gray\", alpha=0.3);\n",
    "sns.lineplot(data=results_pivot.loc[THESE_LANGUAGES+[\"Average\"]].T, palette=language_cmap, dashes=language_dashes);\n",
    "plt.legend(loc=\"lower right\");"
   ]
  },
  {
   "cell_type": "code",
   "execution_count": null,
   "id": "9f830a5e-81b1-4cda-9e58-a1b322edbd79",
   "metadata": {},
   "outputs": [],
   "source": [
    "THESE_LANGUAGES = ['Danish', 'English', 'German']\n",
    "# ax = results_pivot.loc[THESE_LANGUAGES+[\"Average\"]].T.plot(figsize=(20,10), title=\"Average F1 Score By Sentence Character Length\", ylabel=\"F1 Score\", xlabel=\"Sentence Character Length\", ylim=(0.0,1.1));\n",
    "# ax.axhline(y=0.8, linestyle=\"--\", color=\"gray\", alpha=0.3)\n",
    "# ax.set_xticks(range(len(bin_labels)));\n",
    "# ax.set_xticklabels(bin_labels);\n",
    "plt.figure(figsize=(30,10))\n",
    "plt.title(\"Average F1 Score By Sentence Length\")\n",
    "plt.xlabel(\"Sentence Length\")\n",
    "plt.ylabel(\"F1 Score\")\n",
    "plt.ylim(0.0, 1.1)\n",
    "plt.axhline(y=0.8, linestyle=\"--\", color=\"gray\", alpha=0.3);\n",
    "sns.lineplot(data=results_pivot.loc[THESE_LANGUAGES+[\"Average\"]].T, palette=language_cmap, dashes=language_dashes);\n",
    "plt.legend(loc=\"lower right\");"
   ]
  },
  {
   "cell_type": "code",
   "execution_count": null,
   "id": "3771a06b-ccce-4828-80f6-db0d47a7e1d3",
   "metadata": {},
   "outputs": [],
   "source": [
    "THESE_LANGUAGES = ['French', 'Italian', 'Portuguese', 'Spanish']\n",
    "# ax = results_pivot.loc[THESE_LANGUAGES+[\"Average\"]].T.plot(figsize=(20,10), title=\"Average F1 Score By Sentence Character Length\", ylabel=\"F1 Score\", xlabel=\"Sentence Character Length\", ylim=(0.0,1.1));\n",
    "# ax.axhline(y=0.8, linestyle=\"--\", color=\"gray\", alpha=0.3)\n",
    "# ax.set_xticks(range(len(bin_labels)));\n",
    "# ax.set_xticklabels(bin_labels);\n",
    "plt.figure(figsize=(30,10))\n",
    "plt.title(\"Average F1 Score By Sentence Length\")\n",
    "plt.xlabel(\"Sentence Length\")\n",
    "plt.ylabel(\"F1 Score\")\n",
    "plt.ylim(0.0, 1.1)\n",
    "plt.axhline(y=0.8, linestyle=\"--\", color=\"gray\", alpha=0.3);\n",
    "sns.lineplot(data=results_pivot.loc[THESE_LANGUAGES+[\"Average\"]].T, palette=language_cmap, dashes=language_dashes);\n",
    "plt.legend(loc=\"lower right\");"
   ]
  },
  {
   "cell_type": "code",
   "execution_count": null,
   "id": "4c2cdba4-74a7-42fb-898f-e7610032204b",
   "metadata": {},
   "outputs": [],
   "source": [
    "# number of chars needed to be above 0.8 F1"
   ]
  },
  {
   "cell_type": "code",
   "execution_count": null,
   "id": "afa667ed-10dc-4114-aff6-9793b69eee50",
   "metadata": {},
   "outputs": [],
   "source": [
    "results_pivot"
   ]
  },
  {
   "cell_type": "code",
   "execution_count": null,
   "id": "e22d5653-f65b-4858-aa81-bdb9419712c0",
   "metadata": {},
   "outputs": [],
   "source": [
    "# find the first bin where average F1 exceeds 0.8 & stays above 0.8 for the remainder"
   ]
  },
  {
   "cell_type": "code",
   "execution_count": null,
   "id": "5fae8024-31d1-4b8c-bade-eb0998590901",
   "metadata": {},
   "outputs": [],
   "source": [
    "_80 = results_pivot.apply(lambda row: row[row > 0.79].index[0], axis=1)\n",
    "_90 = results_pivot.apply(lambda row: row[row > 0.89].index[0], axis=1)\n",
    "results_pivot[\"First Bin >= 0.8\"] = _80\n",
    "results_pivot[\"First Bin >= 0.9\"] = _90\n",
    "results_pivot"
   ]
  },
  {
   "cell_type": "code",
   "execution_count": null,
   "id": "4c918a47-9e9f-4314-815e-4d8a19d77ffa",
   "metadata": {},
   "outputs": [],
   "source": [
    "results_pivot[\"First Bin >= 0.8\"].sort_values()"
   ]
  },
  {
   "cell_type": "code",
   "execution_count": null,
   "id": "b66489e2-405b-4bab-82c1-90ec7679639e",
   "metadata": {},
   "outputs": [],
   "source": [
    "results_pivot[\"First Bin >= 0.9\"].sort_values()"
   ]
  },
  {
   "cell_type": "code",
   "execution_count": null,
   "id": "5bdb597a-92b2-43bd-9c70-a13c4136b648",
   "metadata": {},
   "outputs": [],
   "source": [
    "# TODO: evaluate langdetect & textblob libs\n",
    "# TODO: evaluate impact of lowercasing, removing punctuation, removing numbers"
   ]
  },
  {
   "cell_type": "code",
   "execution_count": null,
   "id": "63cac2a5-5d3d-4dfe-838c-58aeb0919230",
   "metadata": {},
   "outputs": [],
   "source": []
  }
 ],
 "metadata": {
  "kernelspec": {
   "display_name": "Python 3 (ipykernel)",
   "language": "python",
   "name": "python3"
  },
  "language_info": {
   "codemirror_mode": {
    "name": "ipython",
    "version": 3
   },
   "file_extension": ".py",
   "mimetype": "text/x-python",
   "name": "python",
   "nbconvert_exporter": "python",
   "pygments_lexer": "ipython3",
   "version": "3.9.4"
  }
 },
 "nbformat": 4,
 "nbformat_minor": 5
}
