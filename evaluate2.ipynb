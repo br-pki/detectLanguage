{
 "cells": [
  {
   "cell_type": "code",
   "execution_count": 1,
   "id": "4c99ff22-0d3d-472d-9dcc-e14ed61df596",
   "metadata": {},
   "outputs": [],
   "source": [
    "import os\n",
    "import re\n",
    "\n",
    "import pandas as pd\n",
    "\n",
    "import warnings\n",
    "warnings.filterwarnings('ignore')"
   ]
  },
  {
   "cell_type": "code",
   "execution_count": 2,
   "id": "475e4b02-da1e-4ae8-9b02-59e136a475ae",
   "metadata": {},
   "outputs": [],
   "source": [
    "from create_Tatoeba_train_test import get_language_mappings, get_sentence_word_char_len"
   ]
  },
  {
   "cell_type": "code",
   "execution_count": 3,
   "id": "6e589b45-4e08-43f9-9070-28cf3a66e241",
   "metadata": {},
   "outputs": [],
   "source": [
    "from langid.langid import LanguageIdentifier, model"
   ]
  },
  {
   "cell_type": "code",
   "execution_count": 4,
   "id": "3aa3b681-2682-4b94-a10d-47bc706d284b",
   "metadata": {},
   "outputs": [],
   "source": [
    "language_mappings = get_language_mappings(\"language_mappings.csv\")\n",
    "iso_639_2_English = language_mappings[[\"ISO 639-2\", \"English Name\"]].set_index(keys=\"ISO 639-2\")[\"English Name\"].to_dict()\n",
    "iso_639_2_iso_639_1 = language_mappings[[\"ISO 639-2\", \"ISO 639-1\"]].set_index(keys=\"ISO 639-2\")[\"ISO 639-1\"].to_dict()"
   ]
  },
  {
   "cell_type": "code",
   "execution_count": 5,
   "id": "573cb215-6756-4456-8651-d321fe5360b9",
   "metadata": {},
   "outputs": [],
   "source": [
    "bin_labels = [\"1\",\"2\",\"3\",\"4\",\"5\",\"6\",\"7\",\"8\",\"9\",\"10\",\"11 to 16\", \"17 to 27\", \"28 to 48\", \"49 to 99\"]"
   ]
  },
  {
   "cell_type": "code",
   "execution_count": 6,
   "id": "d39facc3-63a2-456c-96b4-7fb3b412c250",
   "metadata": {},
   "outputs": [
    {
     "name": "stdout",
     "output_type": "stream",
     "text": [
      "1 Tatoeba_stratify_train_2021-8-4_1139.csv\n"
     ]
    },
    {
     "data": {
      "text/html": [
       "<div>\n",
       "<style scoped>\n",
       "    .dataframe tbody tr th:only-of-type {\n",
       "        vertical-align: middle;\n",
       "    }\n",
       "\n",
       "    .dataframe tbody tr th {\n",
       "        vertical-align: top;\n",
       "    }\n",
       "\n",
       "    .dataframe thead th {\n",
       "        text-align: right;\n",
       "    }\n",
       "</style>\n",
       "<table border=\"1\" class=\"dataframe\">\n",
       "  <thead>\n",
       "    <tr style=\"text-align: right;\">\n",
       "      <th></th>\n",
       "      <th>Original Index</th>\n",
       "      <th>Sentence</th>\n",
       "      <th>Language</th>\n",
       "      <th>Language_English_Name</th>\n",
       "      <th>Sentence_len</th>\n",
       "      <th>Sentence_len_bin</th>\n",
       "      <th>langid_language</th>\n",
       "      <th>langid_score</th>\n",
       "      <th>langid_language_English_Name</th>\n",
       "    </tr>\n",
       "  </thead>\n",
       "  <tbody>\n",
       "    <tr>\n",
       "      <th>20304</th>\n",
       "      <td>3170801</td>\n",
       "      <td>Se decía que el fuego había sido causado por u...</td>\n",
       "      <td>spa</td>\n",
       "      <td>Spanish</td>\n",
       "      <td>12</td>\n",
       "      <td>11 to 16</td>\n",
       "      <td>es</td>\n",
       "      <td>1.0</td>\n",
       "      <td>Spanish</td>\n",
       "    </tr>\n",
       "  </tbody>\n",
       "</table>\n",
       "</div>"
      ],
      "text/plain": [
       "       Original Index                                           Sentence  \\\n",
       "20304         3170801  Se decía que el fuego había sido causado por u...   \n",
       "\n",
       "      Language Language_English_Name  Sentence_len Sentence_len_bin  \\\n",
       "20304      spa               Spanish            12         11 to 16   \n",
       "\n",
       "      langid_language  langid_score langid_language_English_Name  \n",
       "20304              es           1.0                      Spanish  "
      ]
     },
     "metadata": {},
     "output_type": "display_data"
    },
    {
     "name": "stdout",
     "output_type": "stream",
     "text": [
      "2 Tatoeba_stratify_train_2021-8-4_1157.csv\n"
     ]
    },
    {
     "data": {
      "text/html": [
       "<div>\n",
       "<style scoped>\n",
       "    .dataframe tbody tr th:only-of-type {\n",
       "        vertical-align: middle;\n",
       "    }\n",
       "\n",
       "    .dataframe tbody tr th {\n",
       "        vertical-align: top;\n",
       "    }\n",
       "\n",
       "    .dataframe thead th {\n",
       "        text-align: right;\n",
       "    }\n",
       "</style>\n",
       "<table border=\"1\" class=\"dataframe\">\n",
       "  <thead>\n",
       "    <tr style=\"text-align: right;\">\n",
       "      <th></th>\n",
       "      <th>Original Index</th>\n",
       "      <th>Sentence</th>\n",
       "      <th>Language</th>\n",
       "      <th>Language_English_Name</th>\n",
       "      <th>Sentence_len</th>\n",
       "      <th>Sentence_len_bin</th>\n",
       "      <th>langid_language</th>\n",
       "      <th>langid_score</th>\n",
       "      <th>langid_language_English_Name</th>\n",
       "    </tr>\n",
       "  </thead>\n",
       "  <tbody>\n",
       "    <tr>\n",
       "      <th>17645</th>\n",
       "      <td>1476013</td>\n",
       "      <td>Het viel me gelijk op dat ze bijzonder lange b...</td>\n",
       "      <td>nld</td>\n",
       "      <td>Dutch</td>\n",
       "      <td>11</td>\n",
       "      <td>11 to 16</td>\n",
       "      <td>nl</td>\n",
       "      <td>1.0</td>\n",
       "      <td>Dutch</td>\n",
       "    </tr>\n",
       "  </tbody>\n",
       "</table>\n",
       "</div>"
      ],
      "text/plain": [
       "       Original Index                                           Sentence  \\\n",
       "17645         1476013  Het viel me gelijk op dat ze bijzonder lange b...   \n",
       "\n",
       "      Language Language_English_Name  Sentence_len Sentence_len_bin  \\\n",
       "17645      nld                 Dutch            11         11 to 16   \n",
       "\n",
       "      langid_language  langid_score langid_language_English_Name  \n",
       "17645              nl           1.0                        Dutch  "
      ]
     },
     "metadata": {},
     "output_type": "display_data"
    },
    {
     "name": "stdout",
     "output_type": "stream",
     "text": [
      "Wall time: 4min 17s\n"
     ]
    }
   ],
   "source": [
    "%%time\n",
    "counter = 0\n",
    "for root, dirs, file in os.walk(\"output/\"):\n",
    "    if root == \"output/\":\n",
    "        for i in file:\n",
    "            train_sample = re.search(r\"train\", i)\n",
    "            if train_sample:\n",
    "                sample = pd.read_csv(f\"output/{i}\")\n",
    "                sample[\"Language_English_Name\"] = sample[\"Language\"].map(iso_639_2_English)\n",
    "                sample[\"Sentence_len\"] = sample.apply(lambda row: get_sentence_word_char_len(row), axis=1)\n",
    "                \n",
    "                sample[\"Sentence_len_bin\"] = pd.cut(\n",
    "                    x=sample[\"Sentence_len\"],\n",
    "                    bins=[0,1,2,3,4,5,6,7,8,9,10,16,27,48,99],\n",
    "                    labels=bin_labels\n",
    "                )\n",
    "                \n",
    "                # find all languages to include in langid predictions\n",
    "                set_languages = [iso_639_2_iso_639_1[i] for i in sample[\"Language\"].unique().tolist()]\n",
    "                lang_identifier = LanguageIdentifier.from_modelstring(model, norm_probs=True)\n",
    "                sample[\"langid\"] = sample.apply(lambda row: list(lang_identifier.classify(row[\"Sentence\"])), axis=1)\n",
    "                sample[\"langid_language\"], sample[\"langid_score\"] = sample[\"langid\"].str\n",
    "                sample.drop(columns=[\"langid\"], inplace=True)\n",
    "                # map Language to English Name & langid_language to English Name\n",
    "                ISO_639_2 = language_mappings.set_index(\"ISO 639-2\")\n",
    "                ISO_639_2 = ISO_639_2[\"English Name\"].to_dict()\n",
    "                sample[\"Language_English_Name\"] = sample[\"Language\"].map(ISO_639_2)\n",
    "\n",
    "                ISO_639_1 = language_mappings.set_index(\"ISO 639-1\")\n",
    "                ISO_639_1 = ISO_639_1[\"English Name\"].to_dict()\n",
    "                sample[\"langid_language_English_Name\"] = sample[\"langid_language\"].map(ISO_639_1)\n",
    "                \n",
    "                counter += 1\n",
    "                print(counter, i)\n",
    "                display(sample.sample())"
   ]
  },
  {
   "cell_type": "code",
   "execution_count": null,
   "id": "e3a88ff8-0f9e-4e81-b4ee-f5adfb02497e",
   "metadata": {},
   "outputs": [],
   "source": []
  }
 ],
 "metadata": {
  "kernelspec": {
   "display_name": "Python 3 (ipykernel)",
   "language": "python",
   "name": "python3"
  },
  "language_info": {
   "codemirror_mode": {
    "name": "ipython",
    "version": 3
   },
   "file_extension": ".py",
   "mimetype": "text/x-python",
   "name": "python",
   "nbconvert_exporter": "python",
   "pygments_lexer": "ipython3",
   "version": "3.9.4"
  }
 },
 "nbformat": 4,
 "nbformat_minor": 5
}
