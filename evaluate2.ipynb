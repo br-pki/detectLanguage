{
 "cells": [
  {
   "cell_type": "markdown",
   "id": "f8fc18fe-abfb-43bc-8a0e-c34ada617ebd",
   "metadata": {},
   "source": [
    "# Imports & setup"
   ]
  },
  {
   "cell_type": "markdown",
   "id": "ab328785-35ed-421e-9bdc-7adc3d0da18c",
   "metadata": {},
   "source": [
    "### Imports - general"
   ]
  },
  {
   "cell_type": "code",
   "execution_count": 1,
   "id": "4c99ff22-0d3d-472d-9dcc-e14ed61df596",
   "metadata": {},
   "outputs": [],
   "source": [
    "import os\n",
    "import re\n",
    "\n",
    "import pandas as pd\n",
    "import warnings\n",
    "warnings.filterwarnings('ignore')\n",
    "\n",
    "from sklearn.metrics import f1_score"
   ]
  },
  {
   "cell_type": "code",
   "execution_count": 2,
   "id": "475e4b02-da1e-4ae8-9b02-59e136a475ae",
   "metadata": {},
   "outputs": [],
   "source": [
    "from create_Tatoeba_train_test import get_language_mappings, get_sentence_word_char_len"
   ]
  },
  {
   "cell_type": "markdown",
   "id": "90594c53-135c-4a1a-b290-df730f1f17bd",
   "metadata": {},
   "source": [
    "### Imports & setup - langid"
   ]
  },
  {
   "cell_type": "code",
   "execution_count": 3,
   "id": "6e589b45-4e08-43f9-9070-28cf3a66e241",
   "metadata": {},
   "outputs": [],
   "source": [
    "from langid.langid import LanguageIdentifier, model"
   ]
  },
  {
   "cell_type": "code",
   "execution_count": 4,
   "id": "04e11668-3149-4a59-b42c-7c257a950a45",
   "metadata": {},
   "outputs": [],
   "source": [
    "lang_identifier = LanguageIdentifier.from_modelstring(model, norm_probs=True)"
   ]
  },
  {
   "cell_type": "markdown",
   "id": "0203c7de-3ca7-49b8-81cc-cf7279cd89c7",
   "metadata": {},
   "source": [
    "### Imports & setup - langdetect"
   ]
  },
  {
   "cell_type": "code",
   "execution_count": 5,
   "id": "29f10f5c-d960-4fd5-a9fc-282ce788590a",
   "metadata": {},
   "outputs": [],
   "source": [
    "from langdetect import DetectorFactory, detect_langs\n",
    "DetectorFactory.seed = 7"
   ]
  },
  {
   "cell_type": "code",
   "execution_count": 6,
   "id": "1c3b9bb9-dfbf-479e-8270-62010a895ea0",
   "metadata": {},
   "outputs": [],
   "source": [
    "def get_langdetect_prediction(this_string: str):\n",
    "    \"\"\"\n",
    "    Run langdetect on a sentence and get the results.\n",
    "    \n",
    "    Args:\n",
    "    this_string - str; the sentence to run through langdetect.\n",
    "    \n",
    "    Returns:\n",
    "    result - langdetect.language.Language; the langdetect output.\n",
    "    \"\"\"\n",
    "    assert isinstance(this_string, str), \"this_string is not of type str.\"\n",
    "    \n",
    "    result = None\n",
    "    if len(this_string)>0:\n",
    "        try:\n",
    "            result = detect_langs(this_string)[0]\n",
    "        except:\n",
    "            result = \"Error\"\n",
    "            print(f\"Error processing sentence: {this_string}\")\n",
    "    return result\n",
    "\n",
    "def get_langdetect_lang(this_result):\n",
    "    \"\"\"\n",
    "    Get the language-component from the langdetect results.\n",
    "    \n",
    "    Args:\n",
    "    this_result - langdetect.language.Language; the langdetect output.\n",
    "    \n",
    "    Returns:\n",
    "    result - str; 2-character identifier for the predicted language.\n",
    "    \"\"\"\n",
    "    result = \"!!\"\n",
    "    if this_result:\n",
    "        try:\n",
    "            result = this_result.lang\n",
    "            result = result.split(\"-\")[0] # mainly for zh-cn\n",
    "        except:\n",
    "            pass\n",
    "    return result\n",
    "\n",
    "def get_langdetect_prob(this_result):\n",
    "    \"\"\"\n",
    "    Get the probability-component from the langdetect results.\n",
    "    \n",
    "    Args:\n",
    "    this_result - langdetect.language.Language; the langdetect output.\n",
    "    \n",
    "    Returns:\n",
    "    result - float; the probability for the predicted language.\n",
    "    \"\"\"\n",
    "    result = 0.0\n",
    "    if this_result:\n",
    "        try:\n",
    "            result = this_result.prob\n",
    "        except:\n",
    "            pass\n",
    "    return result"
   ]
  },
  {
   "cell_type": "code",
   "execution_count": 7,
   "id": "3aa3b681-2682-4b94-a10d-47bc706d284b",
   "metadata": {},
   "outputs": [],
   "source": [
    "language_mappings = get_language_mappings(\"language_mappings.csv\")\n",
    "iso_639_2_English = language_mappings[[\"ISO 639-2\", \"English Name\"]].set_index(keys=\"ISO 639-2\")[\"English Name\"].to_dict()\n",
    "iso_639_2_iso_639_1 = language_mappings[[\"ISO 639-2\", \"ISO 639-1\"]].set_index(keys=\"ISO 639-2\")[\"ISO 639-1\"].to_dict()"
   ]
  },
  {
   "cell_type": "code",
   "execution_count": 8,
   "id": "573cb215-6756-4456-8651-d321fe5360b9",
   "metadata": {},
   "outputs": [],
   "source": [
    "bin_labels = [\"1\",\"2\",\"3\",\"4\",\"5\",\"6\",\"7\",\"8\",\"9\",\"10\",\"11 to 16\", \"17 to 27\", \"28 to 48\", \"49 to 99\"]\n",
    "counter = 0\n",
    "results = []"
   ]
  },
  {
   "cell_type": "markdown",
   "id": "b1b10eb3-0912-449a-9565-82d5bb2f3ae6",
   "metadata": {},
   "source": [
    "# Get predictions & calculate F1 scores"
   ]
  },
  {
   "cell_type": "code",
   "execution_count": 9,
   "id": "d39facc3-63a2-456c-96b4-7fb3b412c250",
   "metadata": {},
   "outputs": [
    {
     "name": "stdout",
     "output_type": "stream",
     "text": [
      "Processing - file:1 - Tatoeba_stratify_train_2021-8-4_1157.csv\n",
      "Error processing sentence: 啥？\n",
      "2 Tatoeba_stratify_train_2021-8-4_1157.csv 336\n"
     ]
    }
   ],
   "source": [
    "# %%time\n",
    "# 11min for 2 samples\n",
    "for root, dirs, file in os.walk(\"output/\"):\n",
    "    if root == \"output/\":\n",
    "        for i in file:\n",
    "            train_sample = re.search(r\"train\", i)\n",
    "            if train_sample:\n",
    "                counter += 1\n",
    "                print(f\"Processing - file:{counter} - {i}\")\n",
    "                sample = pd.read_csv(f\"output/{i}\")\n",
    "                sample[\"Language_English_Name\"] = sample[\"Language\"].map(iso_639_2_English)\n",
    "                sample[\"Sentence_len\"] = sample.apply(lambda row: get_sentence_word_char_len(row), axis=1)\n",
    "                \n",
    "                sample[\"Sentence_len_bin\"] = pd.cut(\n",
    "                    x=sample[\"Sentence_len\"],\n",
    "                    bins=[0,1,2,3,4,5,6,7,8,9,10,16,27,48,99],\n",
    "                    labels=bin_labels\n",
    "                )\n",
    "                \n",
    "                ### LANGID ###\n",
    "                ##############\n",
    "                \n",
    "                # find all languages to include in langid predictions\n",
    "#                 set_languages = [iso_639_2_iso_639_1[i] for i in sample[\"Language\"].unique().tolist()]\n",
    "#                 lang_identifier = LanguageIdentifier.from_modelstring(model, norm_probs=True)\n",
    "                sample[\"langid\"] = sample.apply(lambda row: list(lang_identifier.classify(row[\"Sentence\"])), axis=1)\n",
    "                sample[\"langid_language\"], sample[\"langid_score\"] = sample[\"langid\"].str\n",
    "                sample.drop(columns=[\"langid\"], inplace=True)\n",
    "                # map Language to English Name & langid_language to English Name\n",
    "                ISO_639_2 = language_mappings.set_index(\"ISO 639-2\")\n",
    "                ISO_639_2 = ISO_639_2[\"English Name\"].to_dict()\n",
    "                sample[\"Language_English_Name\"] = sample[\"Language\"].map(ISO_639_2)\n",
    "\n",
    "                ISO_639_1 = language_mappings.set_index(\"ISO 639-1\")\n",
    "                ISO_639_1 = ISO_639_1[\"English Name\"].to_dict()\n",
    "                sample[\"langid_language_English_Name\"] = sample[\"langid_language\"].map(ISO_639_1)\n",
    "                \n",
    "                ### LANGDETECT ###\n",
    "                ##################\n",
    "                \n",
    "                sample[\"langdetect\"] = sample.apply(lambda row: get_langdetect_prediction(row[\"Sentence\"]), axis=1)\n",
    "                sample[\"langdetect_language\"] = sample.apply(lambda row: get_langdetect_lang(row[\"langdetect\"]), axis=1)\n",
    "                sample[\"langdetect_score\"] = sample.apply(lambda row: get_langdetect_prob(row[\"langdetect\"]), axis=1)\n",
    "                sample.drop(columns=[\"langdetect\"], inplace=True)\n",
    "                sample[\"langdetect_language_English_Name\"] = sample[\"langdetect_language\"].map(ISO_639_1)\n",
    "                \n",
    "                ### Get F1 ###\n",
    "                ##############\n",
    "                \n",
    "                for this_bin in bin_labels:\n",
    "                    bin_results = sample[sample[\"Sentence_len_bin\"]==this_bin]\n",
    "                    for lang in bin_results[\"Language_English_Name\"].unique().tolist():\n",
    "                        these_results = bin_results[(bin_results[\"Language_English_Name\"]==lang)]\n",
    "                        for prediction in [\"langid\", \"langdetect\"]:\n",
    "                            these_labels = these_results[\"Language_English_Name\"].unique().tolist()\n",
    "                            this_f1 = f1_score(these_results[\"Language_English_Name\"], these_results[f\"{prediction}_language_English_Name\"], labels=these_labels, average=\"weighted\")\n",
    "                            result = (this_bin, lang, prediction, round(this_f1,2))\n",
    "                            results.append(result)\n",
    "                \n",
    "                counter += 1\n",
    "                print(f\"Finished - file:{counter} - len(results):{len(results)}\\n\")"
   ]
  },
  {
   "cell_type": "code",
   "execution_count": 10,
   "id": "24b2475c-441a-406e-bc67-ed441586ae8c",
   "metadata": {},
   "outputs": [],
   "source": [
    "del file, bin_results, i, lang, prediction, result, root, sample, these_labels, these_results, this_bin, this_f1    "
   ]
  },
  {
   "cell_type": "markdown",
   "id": "b9c48633-9dcf-4304-9ac6-633a0873864a",
   "metadata": {},
   "source": [
    "# Visualize results"
   ]
  },
  {
   "cell_type": "code",
   "execution_count": 11,
   "id": "983d0f72-e0e2-4cd6-b996-ed006bd57aa3",
   "metadata": {},
   "outputs": [],
   "source": [
    "import matplotlib.pyplot as plt\n",
    "import seaborn as sns"
   ]
  },
  {
   "cell_type": "code",
   "execution_count": 12,
   "id": "8aa542a3-f9b0-4526-9857-7ed872e03304",
   "metadata": {},
   "outputs": [],
   "source": [
    "results = pd.DataFrame(data=results, columns=[\"Bin\", \"Language\", \"Source\", \"F1\"])"
   ]
  },
  {
   "cell_type": "code",
   "execution_count": 18,
   "id": "cf6b4648-6e14-4356-b401-0fc639fdcbc6",
   "metadata": {},
   "outputs": [
    {
     "data": {
      "text/html": [
       "<div>\n",
       "<style scoped>\n",
       "    .dataframe tbody tr th:only-of-type {\n",
       "        vertical-align: middle;\n",
       "    }\n",
       "\n",
       "    .dataframe tbody tr th {\n",
       "        vertical-align: top;\n",
       "    }\n",
       "\n",
       "    .dataframe thead th {\n",
       "        text-align: right;\n",
       "    }\n",
       "</style>\n",
       "<table border=\"1\" class=\"dataframe\">\n",
       "  <thead>\n",
       "    <tr style=\"text-align: right;\">\n",
       "      <th>Bin</th>\n",
       "      <th>1</th>\n",
       "      <th>2</th>\n",
       "      <th>3</th>\n",
       "      <th>4</th>\n",
       "      <th>5</th>\n",
       "      <th>6</th>\n",
       "      <th>7</th>\n",
       "      <th>8</th>\n",
       "      <th>9</th>\n",
       "      <th>10</th>\n",
       "      <th>11 to 16</th>\n",
       "      <th>17 to 27</th>\n",
       "      <th>28 to 48</th>\n",
       "      <th>49 to 99</th>\n",
       "    </tr>\n",
       "    <tr>\n",
       "      <th>Language</th>\n",
       "      <th></th>\n",
       "      <th></th>\n",
       "      <th></th>\n",
       "      <th></th>\n",
       "      <th></th>\n",
       "      <th></th>\n",
       "      <th></th>\n",
       "      <th></th>\n",
       "      <th></th>\n",
       "      <th></th>\n",
       "      <th></th>\n",
       "      <th></th>\n",
       "      <th></th>\n",
       "      <th></th>\n",
       "    </tr>\n",
       "  </thead>\n",
       "  <tbody>\n",
       "    <tr>\n",
       "      <th>Chinese</th>\n",
       "      <td>0.33</td>\n",
       "      <td>0.78</td>\n",
       "      <td>0.78</td>\n",
       "      <td>0.82</td>\n",
       "      <td>0.84</td>\n",
       "      <td>0.85</td>\n",
       "      <td>0.83</td>\n",
       "      <td>0.79</td>\n",
       "      <td>0.83</td>\n",
       "      <td>0.83</td>\n",
       "      <td>0.82</td>\n",
       "      <td>0.85</td>\n",
       "      <td>0.85</td>\n",
       "      <td>0.96</td>\n",
       "    </tr>\n",
       "    <tr>\n",
       "      <th>Danish</th>\n",
       "      <td>0.29</td>\n",
       "      <td>0.68</td>\n",
       "      <td>0.68</td>\n",
       "      <td>0.75</td>\n",
       "      <td>0.81</td>\n",
       "      <td>0.79</td>\n",
       "      <td>0.88</td>\n",
       "      <td>0.89</td>\n",
       "      <td>0.89</td>\n",
       "      <td>0.90</td>\n",
       "      <td>0.92</td>\n",
       "      <td>0.97</td>\n",
       "      <td>0.98</td>\n",
       "      <td>1.00</td>\n",
       "    </tr>\n",
       "    <tr>\n",
       "      <th>Dutch</th>\n",
       "      <td>0.33</td>\n",
       "      <td>0.66</td>\n",
       "      <td>0.76</td>\n",
       "      <td>0.86</td>\n",
       "      <td>0.89</td>\n",
       "      <td>0.91</td>\n",
       "      <td>0.93</td>\n",
       "      <td>0.94</td>\n",
       "      <td>0.96</td>\n",
       "      <td>0.96</td>\n",
       "      <td>0.97</td>\n",
       "      <td>0.99</td>\n",
       "      <td>1.00</td>\n",
       "      <td>1.00</td>\n",
       "    </tr>\n",
       "    <tr>\n",
       "      <th>English</th>\n",
       "      <td>0.50</td>\n",
       "      <td>0.89</td>\n",
       "      <td>0.81</td>\n",
       "      <td>0.90</td>\n",
       "      <td>0.96</td>\n",
       "      <td>0.96</td>\n",
       "      <td>0.99</td>\n",
       "      <td>0.99</td>\n",
       "      <td>1.00</td>\n",
       "      <td>1.00</td>\n",
       "      <td>1.00</td>\n",
       "      <td>1.00</td>\n",
       "      <td>1.00</td>\n",
       "      <td>1.00</td>\n",
       "    </tr>\n",
       "    <tr>\n",
       "      <th>French</th>\n",
       "      <td>0.40</td>\n",
       "      <td>0.79</td>\n",
       "      <td>0.93</td>\n",
       "      <td>0.96</td>\n",
       "      <td>0.97</td>\n",
       "      <td>0.99</td>\n",
       "      <td>1.00</td>\n",
       "      <td>0.99</td>\n",
       "      <td>1.00</td>\n",
       "      <td>1.00</td>\n",
       "      <td>1.00</td>\n",
       "      <td>1.00</td>\n",
       "      <td>1.00</td>\n",
       "      <td>1.00</td>\n",
       "    </tr>\n",
       "  </tbody>\n",
       "</table>\n",
       "</div>"
      ],
      "text/plain": [
       "Bin          1     2     3     4     5     6     7     8     9    10  \\\n",
       "Language                                                               \n",
       "Chinese   0.33  0.78  0.78  0.82  0.84  0.85  0.83  0.79  0.83  0.83   \n",
       "Danish    0.29  0.68  0.68  0.75  0.81  0.79  0.88  0.89  0.89  0.90   \n",
       "Dutch     0.33  0.66  0.76  0.86  0.89  0.91  0.93  0.94  0.96  0.96   \n",
       "English   0.50  0.89  0.81  0.90  0.96  0.96  0.99  0.99  1.00  1.00   \n",
       "French    0.40  0.79  0.93  0.96  0.97  0.99  1.00  0.99  1.00  1.00   \n",
       "\n",
       "Bin       11 to 16  17 to 27  28 to 48  49 to 99  \n",
       "Language                                          \n",
       "Chinese       0.82      0.85      0.85      0.96  \n",
       "Danish        0.92      0.97      0.98      1.00  \n",
       "Dutch         0.97      0.99      1.00      1.00  \n",
       "English       1.00      1.00      1.00      1.00  \n",
       "French        1.00      1.00      1.00      1.00  "
      ]
     },
     "execution_count": 18,
     "metadata": {},
     "output_type": "execute_result"
    }
   ],
   "source": [
    "results_langid = results[results[\"Source\"]==\"langid\"]\n",
    "results_langid_pivot = results_langid.pivot_table(values=\"F1\", index=\"Language\", columns=\"Bin\")\n",
    "results_langid_pivot = results_langid_pivot[bin_labels]\n",
    "results_langid_pivot.loc[\"Average\"] = results_langid_pivot.mean()\n",
    "# results_langid_pivot.head()\n",
    "\n",
    "results_langdetect = results[results[\"Source\"]==\"langdetect\"]\n",
    "results_langdetect_pivot = results_langdetect.pivot_table(values=\"F1\", index=\"Language\", columns=\"Bin\")\n",
    "results_langdetect_pivot = results_langdetect_pivot[bin_labels]\n",
    "results_langdetect_pivot.loc[\"Average\"] = results_langdetect_pivot.mean()\n",
    "# results_langdetect_pivot.head()"
   ]
  },
  {
   "cell_type": "code",
   "execution_count": 14,
   "id": "1256bb41-d460-486f-8129-43b630bd6e52",
   "metadata": {},
   "outputs": [],
   "source": [
    "# create custom colormap for consistent colors\n",
    "language_cmap = {}\n",
    "language_cmap[\"Average\"] = (0.8901960784313725, 0.10196078431372549, 0.10980392156862745) # red-orange\n",
    "\n",
    "language_cmap[\"Chinese\"] = (0.5545098039215688, 0.7564167627835449, 0.8683121876201461) # blue\n",
    "language_cmap[\"Japanese\"] = (0.21568627450980393, 0.5294117647058824, 0.7542483660130719) # blue\n",
    "language_cmap[\"Korean\"] = (0.06251441753171857, 0.35750865051903113, 0.6429065743944637) # blue\n",
    "\n",
    "language_cmap[\"French\"] = (0.5739331026528259, 0.8241753171856978, 0.5606151480199923) # green\n",
    "language_cmap[\"Italian\"] = (0.21568627450980393, 0.6287581699346405, 0.3333333333333333) # green\n",
    "language_cmap[\"Spanish\"] = (0.04359861591695502, 0.4648212226066897, 0.20369088811995384) # green\n",
    "language_cmap[\"Portuguese\"] = (0.7792233756247597, 0.9132333717800846, 0.7518031526336024) # green\n",
    "\n",
    "language_cmap[\"English\"] = (0.698961937716263, 0.6965013456362938, 0.8372164552095348) # purple\n",
    "language_cmap[\"Danish\"] = (0.47320261437908495, 0.43267973856209146, 0.6993464052287581) # purple\n",
    "language_cmap[\"German\"] = (0.3568166089965398, 0.20525951557093425, 0.5856978085351787) # purple\n",
    "language_cmap[\"Dutch\"] = (0.38, 0.41, 0.8) # purple?\n",
    "\n",
    "# create custom dash dict for consistent dashes\n",
    "language_dashes = {}\n",
    "language_dashes[\"Average\"] = (1, 1)\n",
    "\n",
    "language_dashes[\"Chinese\"] = (2, 1)\n",
    "language_dashes[\"Japanese\"] = (4, 3)\n",
    "language_dashes[\"Korean\"] = (6, 6)\n",
    "\n",
    "language_dashes[\"French\"] = (2, 1)\n",
    "language_dashes[\"Italian\"] = (4, 3)\n",
    "language_dashes[\"Spanish\"] = (6, 6)\n",
    "language_dashes[\"Portuguese\"] = (8, 12)\n",
    "\n",
    "language_dashes[\"English\"] = (2, 1)\n",
    "language_dashes[\"Danish\"] = (4, 3)\n",
    "language_dashes[\"German\"] = (6, 6)\n",
    "language_dashes[\"Dutch\"] = (8, 12)"
   ]
  },
  {
   "cell_type": "code",
   "execution_count": 15,
   "id": "66034ea6-f2c2-44f9-bbf9-cc6230906b94",
   "metadata": {},
   "outputs": [],
   "source": [
    "sns.set_style(\"darkgrid\")\n",
    "title_font = {\"fontweight\":\"bold\", \"fontsize\":14}\n",
    "label_fonts = {\"fontweight\":\"bold\", \"fontsize\":12}"
   ]
  },
  {
   "cell_type": "markdown",
   "id": "5f7e56b4-461c-4202-905c-99b1cd27a17f",
   "metadata": {},
   "source": [
    "## Plot averages"
   ]
  },
  {
   "cell_type": "code",
   "execution_count": 17,
   "id": "fc22f587-d9f1-4235-8019-afa641d407cf",
   "metadata": {},
   "outputs": [
    {
     "data": {
      "image/png": "[encoded data removed]",
      "text/plain": [
       "<Figure size 2160x720 with 1 Axes>"
      ]
     },
     "metadata": {},
     "output_type": "display_data"
    }
   ],
   "source": [
    "plt.figure(figsize=(30,10))\n",
    "plt.title(\"Average F1 Score By Sentence Length\", fontdict=title_font)\n",
    "plt.xlabel(\"Sentence Length\", fontdict=label_fonts)\n",
    "plt.ylabel(\"F1 Score\", fontdict=label_fonts)\n",
    "plt.ylim(0.0, 1.1)\n",
    "plt.axhline(y=0.8, linestyle=\"--\", color=\"gray\", alpha=0.3);\n",
    "sns.lineplot(data=results_langid_pivot.loc[\"Average\"].T);\n",
    "sns.lineplot(data=results_langdetect_pivot.loc[\"Average\"].T);\n",
    "# plt.legend(loc=\"lower right\");"
   ]
  },
  {
   "cell_type": "code",
   "execution_count": null,
   "id": "4264e176-3885-4035-95c2-5d5a229ee57d",
   "metadata": {},
   "outputs": [],
   "source": []
  }
 ],
 "metadata": {
  "kernelspec": {
   "display_name": "Python 3 (ipykernel)",
   "language": "python",
   "name": "python3"
  },
  "language_info": {
   "codemirror_mode": {
    "name": "ipython",
    "version": 3
   },
   "file_extension": ".py",
   "mimetype": "text/x-python",
   "name": "python",
   "nbconvert_exporter": "python",
   "pygments_lexer": "ipython3",
   "version": "3.9.4"
  }
 },
 "nbformat": 4,
 "nbformat_minor": 5
}
